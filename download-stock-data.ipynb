{
 "cells": [
  {
   "cell_type": "code",
   "execution_count": 2,
   "id": "7b659734",
   "metadata": {},
   "outputs": [],
   "source": [
    "import os\n",
    "import requests\n",
    "\n",
    "import pandas as pd"
   ]
  },
  {
   "cell_type": "code",
   "execution_count": null,
   "id": "ed501ac7",
   "metadata": {},
   "outputs": [],
   "source": [
    "local = 'ko_KR'\n",
    "startDate = '20000101'\n",
    "endDate = '20230331'\n",
    "\n",
    "# 개별종목 목록\n",
    "def getStockDataFrame():\n",
    "    url = f'http://data.krx.co.kr/comm/bldAttendant/getJsonData.cmd'\n",
    "\n",
    "    params = {\n",
    "        'locale': local,\n",
    "        'mktsel': 'ALL',\n",
    "        'typeNo': 0,\n",
    "        'searchText': '',\n",
    "        'bld': 'dbms/comm/finder/finder_stkisu',\n",
    "    }\n",
    "\n",
    "    res = requests.post(url, data=params)\n",
    "\n",
    "    df = pd.DataFrame(res.json()['block1'])\n",
    "    return df\n",
    "\n",
    "# get excel download code\n",
    "def getExcelDownloadCode(stockName, fullCode, codeName):\n",
    "    url = f'http://data.krx.co.kr/comm/fileDn/GenerateOTP/generate.cmd'\n",
    "\n",
    "    params = {\n",
    "        'locale': local,\n",
    "        'tboxisuCd_finder_stkisu0_1': stockName,\n",
    "        'isuCd': fullCode,\n",
    "        'isuCd2': '',\n",
    "        'codeNmisuCd_finder_stkisu0_1': codeName,\n",
    "        'param1isuCd_finder_stkisu0_1': 'ALL',\n",
    "        'strtDd': startDate,\n",
    "        'endDd': endDate,\n",
    "        'adjStkPrc_check': 'Y',\n",
    "        'adjStkPrc': 2,\n",
    "        'share': 1,\n",
    "        'money': 1,\n",
    "        'csvxls_isNo': False,\n",
    "        'name': 'fileDown',\n",
    "        'url': 'dbms/MDC/STAT/standard/MDCSTAT01701'\n",
    "    }\n",
    "\n",
    "    res = requests.post(url, data=params)\n",
    "    return res.text\n",
    "\n",
    "# excel download\n",
    "def downloadExcel(code, stockName):\n",
    "    url = f'http://data.krx.co.kr/comm/fileDn/download_excel/download.cmd'\n",
    "\n",
    "    params = {\n",
    "        'code': code\n",
    "    }\n",
    "    \n",
    "    res = requests.post(url, data=params)\n",
    "    \n",
    "    print(stockName + \" : \" + str(res))\n",
    "    \n",
    "    if not os.path.exists('stock_data_kr'):\n",
    "        os.mkdir('stock_data_kr')\n",
    "    \n",
    "    file_name = 'stock_data_kr/' + stockName.replace('/', '_')\n",
    "    if startDate != '':\n",
    "        file_name += '_' + startDate\n",
    "    if endDate != '':\n",
    "        file_name += '_' + endDate\n",
    "    file_name += '.xlsx'\n",
    "    \n",
    "    with open(file_name, 'wb') as f:\n",
    "        f.write(res.content)"
   ]
  },
  {
   "cell_type": "code",
   "execution_count": null,
   "id": "0daca2b1",
   "metadata": {},
   "outputs": [],
   "source": [
    "for i, row in getStockDataFrame().iterrows():\n",
    "    stockName = row['short_code'] + '/' + row['codeName']\n",
    "    fullCode = row['full_code']\n",
    "    codeName = row['codeName']\n",
    "    \n",
    "    code = getExcelDownloadCode(stockName, fullCode, codeName)\n",
    "    downloadExcel(code, stockName)"
   ]
  },
  {
   "cell_type": "code",
   "execution_count": 4,
   "id": "a520ae3c",
   "metadata": {},
   "outputs": [
    {
     "name": "stderr",
     "output_type": "stream",
     "text": [
      "c:\\Users\\Admin\\anaconda3\\lib\\site-packages\\openpyxl\\styles\\stylesheet.py:226: UserWarning: Workbook contains no default style, apply openpyxl's default\n",
      "  warn(\"Workbook contains no default style, apply openpyxl's default\")\n",
      "c:\\Users\\Admin\\anaconda3\\lib\\site-packages\\openpyxl\\styles\\stylesheet.py:226: UserWarning: Workbook contains no default style, apply openpyxl's default\n",
      "  warn(\"Workbook contains no default style, apply openpyxl's default\")\n",
      "c:\\Users\\Admin\\anaconda3\\lib\\site-packages\\openpyxl\\styles\\stylesheet.py:226: UserWarning: Workbook contains no default style, apply openpyxl's default\n",
      "  warn(\"Workbook contains no default style, apply openpyxl's default\")\n",
      "c:\\Users\\Admin\\anaconda3\\lib\\site-packages\\openpyxl\\styles\\stylesheet.py:226: UserWarning: Workbook contains no default style, apply openpyxl's default\n",
      "  warn(\"Workbook contains no default style, apply openpyxl's default\")\n",
      "c:\\Users\\Admin\\anaconda3\\lib\\site-packages\\openpyxl\\styles\\stylesheet.py:226: UserWarning: Workbook contains no default style, apply openpyxl's default\n",
      "  warn(\"Workbook contains no default style, apply openpyxl's default\")\n"
     ]
    }
   ],
   "source": [
    "base_path = 'sample'\n",
    "\n",
    "if not os.path.exists(base_path):\n",
    "    os.mkdir(base_path)\n",
    "\n",
    "if len(os.listdir(base_path)) == 0:\n",
    "    print(\"no data\")\n",
    "\n",
    "for file_name in os.listdir(base_path):\n",
    "    csv_base_path = base_path + \"_csv/\"\n",
    "    \n",
    "    if not os.path.exists(csv_base_path):\n",
    "        os.mkdir(csv_base_path)\n",
    "    \n",
    "    pd.read_excel(os.path.join(base_path, file_name)).to_csv(os.path.join(csv_base_path, os.path.splitext(file_name)[0] + '.csv'), index=False)"
   ]
  },
  {
   "cell_type": "code",
   "execution_count": null,
   "id": "c478ccc2",
   "metadata": {},
   "outputs": [],
   "source": []
  }
 ],
 "metadata": {
  "kernelspec": {
   "display_name": "Python 3 (ipykernel)",
   "language": "python",
   "name": "python3"
  },
  "language_info": {
   "codemirror_mode": {
    "name": "ipython",
    "version": 3
   },
   "file_extension": ".py",
   "mimetype": "text/x-python",
   "name": "python",
   "nbconvert_exporter": "python",
   "pygments_lexer": "ipython3",
   "version": "3.9.13"
  }
 },
 "nbformat": 4,
 "nbformat_minor": 5
}
