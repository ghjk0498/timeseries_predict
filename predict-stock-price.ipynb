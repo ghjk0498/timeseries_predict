{
 "cells": [
  {
   "cell_type": "code",
   "execution_count": 1,
   "id": "f831d6eb",
   "metadata": {},
   "outputs": [],
   "source": [
    "import os\n",
    "import pickle\n",
    "\n",
    "import pandas as pd\n",
    "import matplotlib.pyplot as plt\n",
    "import numpy as np\n",
    "from darts import TimeSeries\n",
    "from darts.models import NLinearModel\n",
    "from darts.dataprocessing.transformers import Scaler\n",
    "from darts.metrics import mape\n",
    "from darts.utils.timeseries_generation import datetime_attribute_timeseries\n",
    "from pytorch_lightning.callbacks import EarlyStopping\n",
    "from pytorch_lightning.loggers import TensorBoardLogger\n",
    "from torchmetrics import MetricCollection, MeanAbsoluteError, MeanSquaredError\n",
    "import torch\n",
    "\n",
    "torch.set_float32_matmul_precision('high')"
   ]
  },
  {
   "cell_type": "code",
   "execution_count": 2,
   "id": "9fbf7a25",
   "metadata": {},
   "outputs": [],
   "source": [
    "base_path = 'stock_csv/'\n",
    "\n",
    "column_mapping = {\n",
    "    '일자': 'date',\n",
    "    '종가': 'closing_price',\n",
    "    '대비': 'price_difference',\n",
    "    '등락률': 'fluctuation_rate',\n",
    "    '시가': 'opening_price',\n",
    "    '고가': 'highest_price',\n",
    "    '저가': 'lowest_price',\n",
    "    '거래량': 'trading_volume',\n",
    "    '거래대금': 'trading_value',\n",
    "    '시가총액': 'market_capitalization',\n",
    "    '상장주식수': 'listed_shares',\n",
    "}"
   ]
  },
  {
   "cell_type": "code",
   "execution_count": 3,
   "id": "f5147585",
   "metadata": {},
   "outputs": [
    {
     "name": "stderr",
     "output_type": "stream",
     "text": [
      "/home/khg/miniconda3/envs/stock/lib/python3.10/site-packages/openpyxl/styles/stylesheet.py:226: UserWarning: Workbook contains no default style, apply openpyxl's default\n",
      "  warn(\"Workbook contains no default style, apply openpyxl's default\")\n"
     ]
    },
    {
     "data": {
      "text/html": [
       "<div>\n",
       "<style scoped>\n",
       "    .dataframe tbody tr th:only-of-type {\n",
       "        vertical-align: middle;\n",
       "    }\n",
       "\n",
       "    .dataframe tbody tr th {\n",
       "        vertical-align: top;\n",
       "    }\n",
       "\n",
       "    .dataframe thead th {\n",
       "        text-align: right;\n",
       "    }\n",
       "</style>\n",
       "<table border=\"1\" class=\"dataframe\">\n",
       "  <thead>\n",
       "    <tr style=\"text-align: right;\">\n",
       "      <th></th>\n",
       "      <th>date</th>\n",
       "      <th>closing_price</th>\n",
       "      <th>price_difference</th>\n",
       "      <th>fluctuation_rate</th>\n",
       "      <th>opening_price</th>\n",
       "      <th>highest_price</th>\n",
       "      <th>lowest_price</th>\n",
       "      <th>trading_volume</th>\n",
       "      <th>trading_value</th>\n",
       "      <th>market_capitalization</th>\n",
       "      <th>listed_shares</th>\n",
       "    </tr>\n",
       "  </thead>\n",
       "  <tbody>\n",
       "    <tr>\n",
       "      <th>0</th>\n",
       "      <td>2023/03/31</td>\n",
       "      <td>64000</td>\n",
       "      <td>800</td>\n",
       "      <td>1.27</td>\n",
       "      <td>64000</td>\n",
       "      <td>64000</td>\n",
       "      <td>63700</td>\n",
       "      <td>14094479</td>\n",
       "      <td>900711556583</td>\n",
       "      <td>382066083200000</td>\n",
       "      <td>5969782550</td>\n",
       "    </tr>\n",
       "    <tr>\n",
       "      <th>1</th>\n",
       "      <td>2023/03/30</td>\n",
       "      <td>63200</td>\n",
       "      <td>500</td>\n",
       "      <td>0.80</td>\n",
       "      <td>63700</td>\n",
       "      <td>63700</td>\n",
       "      <td>63100</td>\n",
       "      <td>15684377</td>\n",
       "      <td>993903387442</td>\n",
       "      <td>377290257160000</td>\n",
       "      <td>5969782550</td>\n",
       "    </tr>\n",
       "    <tr>\n",
       "      <th>2</th>\n",
       "      <td>2023/03/29</td>\n",
       "      <td>62700</td>\n",
       "      <td>-200</td>\n",
       "      <td>-0.32</td>\n",
       "      <td>62500</td>\n",
       "      <td>62700</td>\n",
       "      <td>62200</td>\n",
       "      <td>11216008</td>\n",
       "      <td>700455977590</td>\n",
       "      <td>374305365885000</td>\n",
       "      <td>5969782550</td>\n",
       "    </tr>\n",
       "    <tr>\n",
       "      <th>3</th>\n",
       "      <td>2023/03/28</td>\n",
       "      <td>62900</td>\n",
       "      <td>800</td>\n",
       "      <td>1.29</td>\n",
       "      <td>62400</td>\n",
       "      <td>62900</td>\n",
       "      <td>62100</td>\n",
       "      <td>11614118</td>\n",
       "      <td>726295104112</td>\n",
       "      <td>375499322395000</td>\n",
       "      <td>5969782550</td>\n",
       "    </tr>\n",
       "    <tr>\n",
       "      <th>4</th>\n",
       "      <td>2023/03/27</td>\n",
       "      <td>62100</td>\n",
       "      <td>-900</td>\n",
       "      <td>-1.43</td>\n",
       "      <td>62600</td>\n",
       "      <td>62800</td>\n",
       "      <td>62000</td>\n",
       "      <td>11039331</td>\n",
       "      <td>687170094400</td>\n",
       "      <td>370723496355000</td>\n",
       "      <td>5969782550</td>\n",
       "    </tr>\n",
       "  </tbody>\n",
       "</table>\n",
       "</div>"
      ],
      "text/plain": [
       "         date  closing_price  price_difference  fluctuation_rate  \\\n",
       "0  2023/03/31          64000               800              1.27   \n",
       "1  2023/03/30          63200               500              0.80   \n",
       "2  2023/03/29          62700              -200             -0.32   \n",
       "3  2023/03/28          62900               800              1.29   \n",
       "4  2023/03/27          62100              -900             -1.43   \n",
       "\n",
       "   opening_price  highest_price  lowest_price  trading_volume  trading_value  \\\n",
       "0          64000          64000         63700        14094479   900711556583   \n",
       "1          63700          63700         63100        15684377   993903387442   \n",
       "2          62500          62700         62200        11216008   700455977590   \n",
       "3          62400          62900         62100        11614118   726295104112   \n",
       "4          62600          62800         62000        11039331   687170094400   \n",
       "\n",
       "   market_capitalization  listed_shares  \n",
       "0        382066083200000     5969782550  \n",
       "1        377290257160000     5969782550  \n",
       "2        374305365885000     5969782550  \n",
       "3        375499322395000     5969782550  \n",
       "4        370723496355000     5969782550  "
      ]
     },
     "execution_count": 3,
     "metadata": {},
     "output_type": "execute_result"
    }
   ],
   "source": [
    "stock_df = pd.read_excel(os.path.join(base_path, '005930_삼성전자_20000101_20230331.csv')).rename(columns=column_mapping)\n",
    "\n",
    "stock_df.head()"
   ]
  },
  {
   "cell_type": "markdown",
   "id": "75130d86",
   "metadata": {},
   "source": [
    "과거 공변량:\n",
    "<ol>\n",
    "    <li>과거 주가 데이터: 종가, 시가, 고가, 저가 등\n",
    "    <li>거래량: 주식 거래량 데이터\n",
    "    <li>기술적 지표: 이동 평균, RSI (상대 강도 지수), MACD (이동 평균 수렴 발산) 등\n",
    "    <li>기업 재무 데이터: 매출, 이익, 자산, 부채 등\n",
    "    <li>배당: 배당금과 배당 수익률\n",
    "    <li>주가 수익률 (P/E) 등의 가치 지표\n",
    "</ol>\n",
    "<br>\n",
    "미래 공변량:\n",
    "<ol>\n",
    "    <li>경제 성장률: 국내 총생산(GDP) 성장률 등\n",
    "    <li>인플레이션: 소비자 물가지수(CPI) 등\n",
    "    <li>기준 금리: 중앙은행의 기준 금리\n",
    "    <li>실업률: 국가의 실업률 데이터\n",
    "    <li>환율: 외환 시장의 환율 정보\n",
    "    <li>경제 정책: 정부의 경제 정책이나 중앙은행의 통화 정책\n",
    "</ol>"
   ]
  },
  {
   "cell_type": "code",
   "execution_count": 4,
   "id": "2197d99b",
   "metadata": {},
   "outputs": [],
   "source": [
    "past_cov_list = ['price_difference', 'fluctuation_rate', 'opening_price', 'highest_price', 'lowest_price', 'trading_volume',\n",
    "                'trading_value', 'market_capitalization', 'listed_shares']\n",
    "# past_cov_list = []\n",
    "\n",
    "def getScaledPastCov(timeseries):\n",
    "    past_cov_timeseries = timeseries.copy()\n",
    "    cov_year = datetime_attribute_timeseries(past_cov_timeseries, attribute='year')\n",
    "    cov_month = datetime_attribute_timeseries(past_cov_timeseries, attribute='month')\n",
    "    past_cov = cov_year.stack(cov_month)\n",
    "    for col in past_cov_list:\n",
    "        past_cov = past_cov.stack(past_cov_timeseries[col])\n",
    "    return Scaler().fit_transform(past_cov)\n",
    "\n",
    "def getFutureCov(timeseries):\n",
    "    pass"
   ]
  },
  {
   "cell_type": "code",
   "execution_count": 5,
   "id": "eef431e4",
   "metadata": {},
   "outputs": [],
   "source": [
    "def write_pickle(file_path, data):\n",
    "    with open(file_path, \"wb\") as f:\n",
    "        pickle.dump(df, f)\n",
    "\n",
    "def read_pickle(file_path):\n",
    "    with open(file_path, \"rb\") as f:\n",
    "        result = pickle.load(f)\n",
    "    return result"
   ]
  },
  {
   "cell_type": "code",
   "execution_count": 17,
   "id": "7c26e924",
   "metadata": {},
   "outputs": [],
   "source": [
    "logger = TensorBoardLogger('logs', name='stock')\n",
    "\n",
    "# A TorchMetric or val_loss can be used as the monitor\n",
    "torch_metrics = MetricCollection([MeanAbsoluteError(), MeanSquaredError()])\n",
    "\n",
    "# Early stop callback\n",
    "my_stopper = EarlyStopping(\n",
    "    monitor=\"val_MeanAbsoluteError\",  # \"val_loss\",\n",
    "    patience=5,\n",
    "    min_delta=0.05,\n",
    "    mode='min',\n",
    ")\n",
    "pl_trainer_kwargs = {\"callbacks\": [my_stopper], \"logger\": logger}\n",
    "\n",
    "model = NLinearModel(input_chunk_length=20, output_chunk_length=5, n_epochs=10, random_state=42,\n",
    "                     batch_size=8,\n",
    "                        torch_metrics=torch_metrics,\n",
    "                        pl_trainer_kwargs=pl_trainer_kwargs)"
   ]
  },
  {
   "cell_type": "code",
   "execution_count": 19,
   "id": "968e75ff",
   "metadata": {},
   "outputs": [
    {
     "name": "stdout",
     "output_type": "stream",
     "text": [
      "1 086670_비엠티_20000101_20230331.csv\n",
      "3 036200_유니셈_20000101_20230331.csv\n",
      "5 053300_한국정보인증_20000101_20230331.csv\n",
      "6 049830_승일_20000101_20230331.csv\n",
      "7 006890_태경케미컬_20000101_20230331.csv\n",
      "8 065710_서호전기_20000101_20230331.csv\n",
      "9 013520_화승코퍼레이션_20000101_20230331.csv\n",
      "10 054800_아이디스홀딩스_20000101_20230331.csv\n",
      "11 199800_툴젠_20000101_20230331.csv\n",
      "12 083790_크리스탈지노믹스_20000101_20230331.csv\n",
      "13 005390_신성통상_20000101_20230331.csv\n",
      "14 013310_아진산업_20000101_20230331.csv\n",
      "15 005180_빙그레_20000101_20230331.csv\n",
      "16 007700_F&F홀딩스_20000101_20230331.csv\n",
      "18 004080_신흥_20000101_20230331.csv\n",
      "21 035290_골드앤에스_20000101_20230331.csv\n",
      "26 204620_글로벌텍스프리_20000101_20230331.csv\n",
      "28 160550_NEW_20000101_20230331.csv\n",
      "29 102260_동성케미컬_20000101_20230331.csv\n",
      "30 192440_슈피겐코리아_20000101_20230331.csv\n",
      "31 033200_모아텍_20000101_20230331.csv\n",
      "32 004365_세방우_20000101_20230331.csv\n",
      "34 086040_바이오톡스텍_20000101_20230331.csv\n",
      "36 025870_신라에스지_20000101_20230331.csv\n",
      "37 005965_동부건설우_20000101_20230331.csv\n",
      "39 058420_제이웨이_20000101_20230331.csv\n",
      "40 173940_에프엔씨엔터_20000101_20230331.csv\n",
      "41 027580_상보_20000101_20230331.csv\n",
      "42 034230_파라다이스_20000101_20230331.csv\n",
      "43 047050_포스코인터내셔널_20000101_20230331.csv\n",
      "44 002820_SUN&L_20000101_20230331.csv\n",
      "45 029480_광무_20000101_20230331.csv\n",
      "46 004490_세방전지_20000101_20230331.csv\n",
      "48 011330_유니켐_20000101_20230331.csv\n",
      "49 041460_한국전자인증_20000101_20230331.csv\n",
      "50 039030_이오테크닉스_20000101_20230331.csv\n",
      "51 092130_이크레더블_20000101_20230331.csv\n",
      "53 205500_액션스퀘어_20000101_20230331.csv\n",
      "55 140910_에이리츠_20000101_20230331.csv\n",
      "56 092200_디아이씨_20000101_20230331.csv\n",
      "57 007690_국도화학_20000101_20230331.csv\n",
      "58 082920_비츠로셀_20000101_20230331.csv\n",
      "59 121440_골프존뉴딘홀딩스_20000101_20230331.csv\n",
      "60 036710_심텍홀딩스_20000101_20230331.csv\n",
      "61 070590_한솔인티큐브_20000101_20230331.csv\n",
      "63 038390_레드캡투어_20000101_20230331.csv\n",
      "65 005945_NH투자증권우_20000101_20230331.csv\n",
      "66 007980_태평양물산_20000101_20230331.csv\n",
      "69 077360_덕산하이메탈_20000101_20230331.csv\n",
      "71 138070_신진에스엠_20000101_20230331.csv\n",
      "73 037230_한국팩키지_20000101_20230331.csv\n",
      "74 000910_유니온_20000101_20230331.csv\n",
      "75 018700_바른손_20000101_20230331.csv\n",
      "76 004830_덕성_20000101_20230331.csv\n",
      "77 012030_DB_20000101_20230331.csv\n",
      "78 040420_정상제이엘에스_20000101_20230331.csv\n",
      "80 050090_비케이홀딩스_20000101_20230331.csv\n",
      "81 015750_성우하이텍_20000101_20230331.csv\n",
      "82 033130_디지틀조선_20000101_20230331.csv\n",
      "83 134060_이퓨쳐_20000101_20230331.csv\n",
      "84 013360_일성건설_20000101_20230331.csv\n",
      "85 096350_대창솔루션_20000101_20230331.csv\n",
      "86 004870_티웨이홀딩스_20000101_20230331.csv\n",
      "87 189350_코셋_20000101_20230331.csv\n",
      "88 017900_광전자_20000101_20230331.csv\n",
      "89 042110_에스씨디_20000101_20230331.csv\n",
      "90 099220_SDN_20000101_20230331.csv\n",
      "94 069540_라이트론_20000101_20230331.csv\n",
      "95 058730_다스코_20000101_20230331.csv\n",
      "96 055550_신한지주_20000101_20230331.csv\n",
      "98 035460_기산텔레콤_20000101_20230331.csv\n",
      "99 023910_대한약품_20000101_20230331.csv\n",
      "100 001260_남광토건_20000101_20230331.csv\n",
      "103 099320_쎄트렉아이_20000101_20230331.csv\n",
      "105 072770_율호_20000101_20230331.csv\n",
      "106 090355_노루페인트우_20000101_20230331.csv\n",
      "107 096690_에이루트_20000101_20230331.csv\n",
      "108 119860_커넥트웨이브_20000101_20230331.csv\n",
      "109 058850_KTcs_20000101_20230331.csv\n",
      "110 002070_비비안_20000101_20230331.csv\n",
      "111 091340_S&K폴리텍_20000101_20230331.csv\n",
      "112 089140_넥스턴바이오_20000101_20230331.csv\n",
      "115 083450_GST_20000101_20230331.csv\n",
      "116 001630_종근당홀딩스_20000101_20230331.csv\n",
      "117 112610_씨에스윈드_20000101_20230331.csv\n",
      "118 073110_엘엠에스_20000101_20230331.csv\n",
      "119 053280_예스24_20000101_20230331.csv\n",
      "120 058530_파나케이아_20000101_20230331.csv\n",
      "126 042420_네오위즈홀딩스_20000101_20230331.csv\n",
      "127 034300_신세계건설_20000101_20230331.csv\n",
      "129 079160_CJ CGV_20000101_20230331.csv\n",
      "130 001530_DI동일_20000101_20230331.csv\n",
      "131 019170_신풍제약_20000101_20230331.csv\n",
      "132 000815_삼성화재우_20000101_20230331.csv\n",
      "133 005320_국동_20000101_20230331.csv\n",
      "134 001070_대한방직_20000101_20230331.csv\n",
      "136 114810_한솔아이원스_20000101_20230331.csv\n",
      "137 043360_디지아이_20000101_20230331.csv\n",
      "139 034730_SK_20000101_20230331.csv\n",
      "140 006660_삼성공조_20000101_20230331.csv\n"
     ]
    },
    {
     "name": "stderr",
     "output_type": "stream",
     "text": [
      "GPU available: True (cuda), used: True\n",
      "TPU available: False, using: 0 TPU cores\n",
      "IPU available: False, using: 0 IPUs\n",
      "HPU available: False, using: 0 HPUs\n",
      "LOCAL_RANK: 0 - CUDA_VISIBLE_DEVICES: [0]\n",
      "\n",
      "  | Name          | Type             | Params\n",
      "---------------------------------------------------\n",
      "0 | criterion     | MSELoss          | 0     \n",
      "1 | train_metrics | MetricCollection | 0     \n",
      "2 | val_metrics   | MetricCollection | 0     \n",
      "3 | layer         | Linear           | 1.2 K \n",
      "---------------------------------------------------\n",
      "1.2 K     Trainable params\n",
      "0         Non-trainable params\n",
      "1.2 K     Total params\n",
      "0.005     Total estimated model params size (MB)\n"
     ]
    },
    {
     "data": {
      "application/vnd.jupyter.widget-view+json": {
       "model_id": "",
       "version_major": 2,
       "version_minor": 0
      },
      "text/plain": [
       "Sanity Checking: 0it [00:00, ?it/s]"
      ]
     },
     "metadata": {},
     "output_type": "display_data"
    },
    {
     "data": {
      "application/vnd.jupyter.widget-view+json": {
       "model_id": "fc7beeafe5524efeafcb1ce60ed80ab4",
       "version_major": 2,
       "version_minor": 0
      },
      "text/plain": [
       "Training: 0it [00:00, ?it/s]"
      ]
     },
     "metadata": {},
     "output_type": "display_data"
    },
    {
     "data": {
      "application/vnd.jupyter.widget-view+json": {
       "model_id": "",
       "version_major": 2,
       "version_minor": 0
      },
      "text/plain": [
       "Validation: 0it [00:00, ?it/s]"
      ]
     },
     "metadata": {},
     "output_type": "display_data"
    },
    {
     "data": {
      "application/vnd.jupyter.widget-view+json": {
       "model_id": "",
       "version_major": 2,
       "version_minor": 0
      },
      "text/plain": [
       "Validation: 0it [00:00, ?it/s]"
      ]
     },
     "metadata": {},
     "output_type": "display_data"
    },
    {
     "data": {
      "application/vnd.jupyter.widget-view+json": {
       "model_id": "",
       "version_major": 2,
       "version_minor": 0
      },
      "text/plain": [
       "Validation: 0it [00:00, ?it/s]"
      ]
     },
     "metadata": {},
     "output_type": "display_data"
    },
    {
     "data": {
      "application/vnd.jupyter.widget-view+json": {
       "model_id": "",
       "version_major": 2,
       "version_minor": 0
      },
      "text/plain": [
       "Validation: 0it [00:00, ?it/s]"
      ]
     },
     "metadata": {},
     "output_type": "display_data"
    },
    {
     "data": {
      "application/vnd.jupyter.widget-view+json": {
       "model_id": "",
       "version_major": 2,
       "version_minor": 0
      },
      "text/plain": [
       "Validation: 0it [00:00, ?it/s]"
      ]
     },
     "metadata": {},
     "output_type": "display_data"
    },
    {
     "data": {
      "application/vnd.jupyter.widget-view+json": {
       "model_id": "",
       "version_major": 2,
       "version_minor": 0
      },
      "text/plain": [
       "Validation: 0it [00:00, ?it/s]"
      ]
     },
     "metadata": {},
     "output_type": "display_data"
    },
    {
     "name": "stdout",
     "output_type": "stream",
     "text": [
      "141 065350_신성델타테크_20000101_20230331.csv\n",
      "142 005950_이수화학_20000101_20230331.csv\n",
      "143 016590_신대양제지_20000101_20230331.csv\n",
      "144 046310_백금T&A_20000101_20230331.csv\n",
      "145 119610_인터로조_20000101_20230331.csv\n",
      "146 011040_경동제약_20000101_20230331.csv\n",
      "147 001130_대한제분_20000101_20230331.csv\n",
      "148 094800_맵스리얼티1_20000101_20230331.csv\n",
      "149 014570_고려제약_20000101_20230331.csv\n",
      "150 030190_NICE평가정보_20000101_20230331.csv\n",
      "152 002700_신일전자_20000101_20230331.csv\n",
      "156 067170_오텍_20000101_20230331.csv\n",
      "159 031440_신세계푸드_20000101_20230331.csv\n",
      "160 119650_KC코트렐_20000101_20230331.csv\n",
      "161 095700_제넥신_20000101_20230331.csv\n",
      "163 004890_동일산업_20000101_20230331.csv\n",
      "164 122870_와이지엔터테인먼트_20000101_20230331.csv\n",
      "165 024060_흥구석유_20000101_20230331.csv\n",
      "167 009470_삼화전기_20000101_20230331.csv\n",
      "168 200470_에이팩트_20000101_20230331.csv\n",
      "169 011080_형지I&C_20000101_20230331.csv\n",
      "170 028080_휴맥스홀딩스_20000101_20230331.csv\n",
      "172 074610_이엔플러스_20000101_20230331.csv\n",
      "173 115160_휴맥스_20000101_20230331.csv\n",
      "175 032500_케이엠더블유_20000101_20230331.csv\n",
      "177 034120_SBS_20000101_20230331.csv\n",
      "179 066575_LG전자우_20000101_20230331.csv\n",
      "180 032800_판타지오_20000101_20230331.csv\n",
      "182 007820_에스엠코어_20000101_20230331.csv\n",
      "183 900120_씨케이에이치_20000101_20230331.csv\n",
      "184 001045_CJ우_20000101_20230331.csv\n",
      "185 003070_코오롱글로벌_20000101_20230331.csv\n",
      "186 003460_유화증권_20000101_20230331.csv\n",
      "189 021650_한국큐빅_20000101_20230331.csv\n",
      "190 071280_로체시스템즈_20000101_20230331.csv\n",
      "191 009520_포스코엠텍_20000101_20230331.csv\n",
      "193 136510_스마트솔루션즈_20000101_20230331.csv\n",
      "195 025770_한국정보통신_20000101_20230331.csv\n",
      "196 012510_더존비즈온_20000101_20230331.csv\n",
      "197 124500_아이티센_20000101_20230331.csv\n",
      "198 004270_남성_20000101_20230331.csv\n",
      "199 086280_현대글로비스_20000101_20230331.csv\n",
      "201 073240_금호타이어_20000101_20230331.csv\n",
      "202 004700_조광피혁_20000101_20230331.csv\n",
      "203 094840_슈프리마에이치큐_20000101_20230331.csv\n",
      "204 035610_솔본_20000101_20230331.csv\n",
      "205 006910_보성파워텍_20000101_20230331.csv\n",
      "206 208710_바이오로그디바이스_20000101_20230331.csv\n",
      "207 072870_메가스터디_20000101_20230331.csv\n",
      "209 060540_에스에이티_20000101_20230331.csv\n",
      "210 008350_남선알미늄_20000101_20230331.csv\n",
      "215 001740_SK네트웍스_20000101_20230331.csv\n",
      "216 002760_보락_20000101_20230331.csv\n",
      "218 033170_시그네틱스_20000101_20230331.csv\n",
      "219 060370_KT서브마린_20000101_20230331.csv\n",
      "222 109960_에이프로젠 H&G_20000101_20230331.csv\n",
      "223 048470_대동스틸_20000101_20230331.csv\n",
      "224 104040_대성파인텍_20000101_20230331.csv\n",
      "226 037560_LG헬로비전_20000101_20230331.csv\n",
      "228 078140_대봉엘에스_20000101_20230331.csv\n",
      "229 044060_조광ILI_20000101_20230331.csv\n",
      "230 086790_하나금융지주_20000101_20230331.csv\n",
      "232 084990_헬릭스미스_20000101_20230331.csv\n",
      "234 007210_벽산_20000101_20230331.csv\n",
      "236 015230_대창단조_20000101_20230331.csv\n",
      "238 138080_오이솔루션_20000101_20230331.csv\n",
      "239 163560_동일고무벨트_20000101_20230331.csv\n",
      "240 003310_대주산업_20000101_20230331.csv\n",
      "243 016920_카스_20000101_20230331.csv\n",
      "244 050890_쏠리드_20000101_20230331.csv\n",
      "245 011000_진원생명과학_20000101_20230331.csv\n",
      "246 139050_시티랩스_20000101_20230331.csv\n",
      "250 000725_현대건설우_20000101_20230331.csv\n",
      "251 017390_서울가스_20000101_20230331.csv\n",
      "253 155650_와이엠씨_20000101_20230331.csv\n",
      "254 024880_케이피에프_20000101_20230331.csv\n",
      "257 084370_유진테크_20000101_20230331.csv\n",
      "258 009190_대양금속_20000101_20230331.csv\n",
      "261 064800_젬백스링크_20000101_20230331.csv\n",
      "262 018500_동원금속_20000101_20230331.csv\n",
      "263 009780_엠에스씨_20000101_20230331.csv\n",
      "264 036560_영풍정밀_20000101_20230331.csv\n",
      "266 134580_탑코미디어_20000101_20230331.csv\n",
      "267 039020_이건홀딩스_20000101_20230331.csv\n",
      "269 011500_한농화성_20000101_20230331.csv\n",
      "270 005160_동국산업_20000101_20230331.csv\n",
      "271 001420_태원물산_20000101_20230331.csv\n",
      "277 010955_S-Oil우_20000101_20230331.csv\n",
      "278 079960_동양이엔피_20000101_20230331.csv\n",
      "280 001520_동양_20000101_20230331.csv\n",
      "281 066620_국보디자인_20000101_20230331.csv\n",
      "283 006490_인스코비_20000101_20230331.csv\n",
      "284 036670_KCI_20000101_20230331.csv\n",
      "287 008930_한미사이언스_20000101_20230331.csv\n",
      "289 203690_프로스테믹스_20000101_20230331.csv\n",
      "293 018120_진로발효_20000101_20230331.csv\n",
      "294 012610_경인양행_20000101_20230331.csv\n",
      "295 142760_비엘_20000101_20230331.csv\n",
      "296 003550_LG_20000101_20230331.csv\n",
      "297 090435_아모레퍼시픽우_20000101_20230331.csv\n"
     ]
    },
    {
     "name": "stderr",
     "output_type": "stream",
     "text": [
      "GPU available: True (cuda), used: True\n",
      "TPU available: False, using: 0 TPU cores\n",
      "IPU available: False, using: 0 IPUs\n",
      "HPU available: False, using: 0 HPUs\n",
      "Attempting to retrain the model without resuming from a checkpoint. This is currently discouraged. Consider setting `save_checkpoints` to `True` and specifying `model_name` at model creation. Then call `model = NLinearModel.load_from_checkpoint(model_name, best=False)`. Finally, train the model with `model.fit(..., epochs=new_epochs)` where `new_epochs` is the sum of (epochs already trained + some additional epochs).\n",
      "LOCAL_RANK: 0 - CUDA_VISIBLE_DEVICES: [0]\n",
      "\n",
      "  | Name          | Type             | Params\n",
      "---------------------------------------------------\n",
      "0 | criterion     | MSELoss          | 0     \n",
      "1 | train_metrics | MetricCollection | 0     \n",
      "2 | val_metrics   | MetricCollection | 0     \n",
      "3 | layer         | Linear           | 1.2 K \n",
      "---------------------------------------------------\n",
      "1.2 K     Trainable params\n",
      "0         Non-trainable params\n",
      "1.2 K     Total params\n",
      "0.005     Total estimated model params size (MB)\n"
     ]
    },
    {
     "data": {
      "application/vnd.jupyter.widget-view+json": {
       "model_id": "",
       "version_major": 2,
       "version_minor": 0
      },
      "text/plain": [
       "Sanity Checking: 0it [00:00, ?it/s]"
      ]
     },
     "metadata": {},
     "output_type": "display_data"
    },
    {
     "data": {
      "application/vnd.jupyter.widget-view+json": {
       "model_id": "240c5194e40b440bad59484e73a43111",
       "version_major": 2,
       "version_minor": 0
      },
      "text/plain": [
       "Training: 0it [00:00, ?it/s]"
      ]
     },
     "metadata": {},
     "output_type": "display_data"
    },
    {
     "data": {
      "application/vnd.jupyter.widget-view+json": {
       "model_id": "",
       "version_major": 2,
       "version_minor": 0
      },
      "text/plain": [
       "Validation: 0it [00:00, ?it/s]"
      ]
     },
     "metadata": {},
     "output_type": "display_data"
    },
    {
     "name": "stdout",
     "output_type": "stream",
     "text": [
      "298 192390_윈하이텍_20000101_20230331.csv\n",
      "299 017510_세명전기_20000101_20230331.csv\n",
      "300 088130_동아엘텍_20000101_20230331.csv\n",
      "301 155900_바다로19호_20000101_20230331.csv\n",
      "302 092460_한라IMS_20000101_20230331.csv\n",
      "303 011785_금호석유우_20000101_20230331.csv\n",
      "304 033830_티비씨_20000101_20230331.csv\n",
      "305 085660_차바이오텍_20000101_20230331.csv\n",
      "306 126600_BGF에코머티리얼즈_20000101_20230331.csv\n",
      "307 189860_서전기전_20000101_20230331.csv\n",
      "308 003075_코오롱글로벌우_20000101_20230331.csv\n",
      "309 000240_한국앤컴퍼니_20000101_20230331.csv\n",
      "310 041930_동아화성_20000101_20230331.csv\n",
      "311 078940_코드네이처_20000101_20230331.csv\n",
      "312 036620_감성코퍼레이션_20000101_20230331.csv\n",
      "313 063440_SM Life Design_20000101_20230331.csv\n",
      "314 032685_소프트센우_20000101_20230331.csv\n",
      "315 064850_에프앤가이드_20000101_20230331.csv\n",
      "316 078070_유비쿼스홀딩스_20000101_20230331.csv\n",
      "319 095720_웅진씽크빅_20000101_20230331.csv\n",
      "320 002790_아모레G_20000101_20230331.csv\n",
      "321 037270_YG PLUS_20000101_20230331.csv\n",
      "322 012700_리드코프_20000101_20230331.csv\n",
      "323 006120_SK디스커버리_20000101_20230331.csv\n",
      "324 047040_대우건설_20000101_20230331.csv\n",
      "325 076610_해성옵틱스_20000101_20230331.csv\n",
      "326 000430_대원강업_20000101_20230331.csv\n",
      "327 005740_크라운해태홀딩스_20000101_20230331.csv\n",
      "328 205100_엑셈_20000101_20230331.csv\n",
      "331 007860_서연_20000101_20230331.csv\n",
      "332 035150_백산_20000101_20230331.csv\n",
      "334 002025_코오롱우_20000101_20230331.csv\n",
      "340 080000_에스엔유_20000101_20230331.csv\n",
      "343 004255_NPC우_20000101_20230331.csv\n",
      "344 042940_상지카일룸_20000101_20230331.csv\n",
      "345 011780_금호석유_20000101_20230331.csv\n",
      "346 060480_국일신동_20000101_20230331.csv\n",
      "347 051380_피씨디렉트_20000101_20230331.csv\n",
      "348 033310_엠투엔_20000101_20230331.csv\n",
      "355 023760_한국캐피탈_20000101_20230331.csv\n",
      "356 000320_노루홀딩스_20000101_20230331.csv\n",
      "357 013030_하이록코리아_20000101_20230331.csv\n",
      "358 082210_옵트론텍_20000101_20230331.csv\n",
      "360 017670_SK텔레콤_20000101_20230331.csv\n",
      "361 033780_KT&G_20000101_20230331.csv\n",
      "362 071840_롯데하이마트_20000101_20230331.csv\n",
      "363 003520_영진약품_20000101_20230331.csv\n",
      "364 006260_LS_20000101_20230331.csv\n",
      "365 000995_DB하이텍1우_20000101_20230331.csv\n",
      "366 010950_S-Oil_20000101_20230331.csv\n",
      "369 123690_한국화장품_20000101_20230331.csv\n",
      "370 038880_아이에이_20000101_20230331.csv\n",
      "375 038540_상상인_20000101_20230331.csv\n",
      "376 023460_CNH_20000101_20230331.csv\n",
      "377 081660_휠라홀딩스_20000101_20230331.csv\n",
      "380 033530_세종공업_20000101_20230331.csv\n",
      "381 003300_한일홀딩스_20000101_20230331.csv\n",
      "384 032080_아즈텍WB_20000101_20230331.csv\n",
      "385 031510_오스템_20000101_20230331.csv\n",
      "386 138930_BNK금융지주_20000101_20230331.csv\n",
      "389 004415_서울식품우_20000101_20230331.csv\n",
      "390 105560_KB금융_20000101_20230331.csv\n",
      "391 001430_세아베스틸지주_20000101_20230331.csv\n",
      "392 039980_리노스_20000101_20230331.csv\n",
      "393 005850_에스엘_20000101_20230331.csv\n",
      "394 008700_아남전자_20000101_20230331.csv\n",
      "395 131290_티에스이_20000101_20230331.csv\n",
      "398 083930_아바코_20000101_20230331.csv\n",
      "400 064240_홈캐스트_20000101_20230331.csv\n",
      "401 032860_휴먼엔_20000101_20230331.csv\n",
      "403 079980_휴비스_20000101_20230331.csv\n",
      "405 094360_칩스앤미디어_20000101_20230331.csv\n",
      "406 036930_주성엔지니어링_20000101_20230331.csv\n",
      "410 079950_인베니아_20000101_20230331.csv\n",
      "411 046940_우원개발_20000101_20230331.csv\n",
      "412 104200_NHN벅스_20000101_20230331.csv\n",
      "415 024070_WISCOM_20000101_20230331.csv\n",
      "416 192400_쿠쿠홀딩스_20000101_20230331.csv\n",
      "417 005830_DB손해보험_20000101_20230331.csv\n",
      "418 058860_KTis_20000101_20230331.csv\n",
      "419 041650_상신브레이크_20000101_20230331.csv\n",
      "421 066310_큐에스아이_20000101_20230331.csv\n",
      "422 006980_우성_20000101_20230331.csv\n",
      "424 003280_흥아해운_20000101_20230331.csv\n",
      "425 123040_엠에스오토텍_20000101_20230331.csv\n",
      "426 196450_코아시아옵틱스_20000101_20230331.csv\n",
      "427 088910_동우팜투테이블_20000101_20230331.csv\n",
      "428 080010_이상네트웍스_20000101_20230331.csv\n",
      "429 058630_엠게임_20000101_20230331.csv\n",
      "430 133820_화인베스틸_20000101_20230331.csv\n",
      "431 002410_범양건영_20000101_20230331.csv\n",
      "433 150440_피노텍_20000101_20230331.csv\n",
      "434 053030_바이넥스_20000101_20230331.csv\n",
      "437 185750_종근당_20000101_20230331.csv\n",
      "438 032790_비엔지티_20000101_20230331.csv\n",
      "439 094970_제이엠티_20000101_20230331.csv\n",
      "440 007330_푸른저축은행_20000101_20230331.csv\n",
      "441 084695_대상홀딩스우_20000101_20230331.csv\n",
      "443 006730_서부T&D_20000101_20230331.csv\n",
      "446 095660_네오위즈_20000101_20230331.csv\n"
     ]
    },
    {
     "name": "stderr",
     "output_type": "stream",
     "text": [
      "GPU available: True (cuda), used: True\n",
      "TPU available: False, using: 0 TPU cores\n",
      "IPU available: False, using: 0 IPUs\n",
      "HPU available: False, using: 0 HPUs\n",
      "Attempting to retrain the model without resuming from a checkpoint. This is currently discouraged. Consider setting `save_checkpoints` to `True` and specifying `model_name` at model creation. Then call `model = NLinearModel.load_from_checkpoint(model_name, best=False)`. Finally, train the model with `model.fit(..., epochs=new_epochs)` where `new_epochs` is the sum of (epochs already trained + some additional epochs).\n",
      "LOCAL_RANK: 0 - CUDA_VISIBLE_DEVICES: [0]\n",
      "\n",
      "  | Name          | Type             | Params\n",
      "---------------------------------------------------\n",
      "0 | criterion     | MSELoss          | 0     \n",
      "1 | train_metrics | MetricCollection | 0     \n",
      "2 | val_metrics   | MetricCollection | 0     \n",
      "3 | layer         | Linear           | 1.2 K \n",
      "---------------------------------------------------\n",
      "1.2 K     Trainable params\n",
      "0         Non-trainable params\n",
      "1.2 K     Total params\n",
      "0.005     Total estimated model params size (MB)\n"
     ]
    },
    {
     "data": {
      "application/vnd.jupyter.widget-view+json": {
       "model_id": "",
       "version_major": 2,
       "version_minor": 0
      },
      "text/plain": [
       "Sanity Checking: 0it [00:00, ?it/s]"
      ]
     },
     "metadata": {},
     "output_type": "display_data"
    },
    {
     "data": {
      "application/vnd.jupyter.widget-view+json": {
       "model_id": "d9c654b152204bf0a00b30396609a5bf",
       "version_major": 2,
       "version_minor": 0
      },
      "text/plain": [
       "Training: 0it [00:00, ?it/s]"
      ]
     },
     "metadata": {},
     "output_type": "display_data"
    },
    {
     "data": {
      "application/vnd.jupyter.widget-view+json": {
       "model_id": "",
       "version_major": 2,
       "version_minor": 0
      },
      "text/plain": [
       "Validation: 0it [00:00, ?it/s]"
      ]
     },
     "metadata": {},
     "output_type": "display_data"
    },
    {
     "name": "stdout",
     "output_type": "stream",
     "text": [
      "447 018470_조일알미늄_20000101_20230331.csv\n",
      "451 033560_블루콤_20000101_20230331.csv\n",
      "452 002785_진흥기업우B_20000101_20230331.csv\n",
      "453 082740_HSD엔진_20000101_20230331.csv\n",
      "454 043610_지니뮤직_20000101_20230331.csv\n",
      "455 039130_하나투어_20000101_20230331.csv\n",
      "456 003030_세아제강지주_20000101_20230331.csv\n",
      "457 106520_노블엠앤비_20000101_20230331.csv\n",
      "460 073010_케이에스피_20000101_20230331.csv\n",
      "461 086900_메디톡스_20000101_20230331.csv\n",
      "463 203450_유니온커뮤니티_20000101_20230331.csv\n",
      "465 000640_동아쏘시오홀딩스_20000101_20230331.csv\n",
      "469 148250_알엔투테크놀로지_20000101_20230331.csv\n",
      "472 066910_손오공_20000101_20230331.csv\n",
      "474 014285_금강공업우_20000101_20230331.csv\n",
      "475 056360_코위버_20000101_20230331.csv\n",
      "476 089980_상아프론테크_20000101_20230331.csv\n",
      "477 115570_스타플렉스_20000101_20230331.csv\n",
      "483 001290_상상인증권_20000101_20230331.csv\n",
      "484 086960_MDS테크_20000101_20230331.csv\n",
      "485 003830_대한화섬_20000101_20230331.csv\n",
      "486 019210_와이지-원_20000101_20230331.csv\n",
      "487 114120_크루셜텍_20000101_20230331.csv\n",
      "488 131400_이브이첨단소재_20000101_20230331.csv\n",
      "489 109080_옵티시스_20000101_20230331.csv\n",
      "490 042700_한미반도체_20000101_20230331.csv\n",
      "492 002020_코오롱_20000101_20230331.csv\n",
      "495 080220_제주반도체_20000101_20230331.csv\n",
      "497 007770_한일화학_20000101_20230331.csv\n",
      "498 039200_오스코텍_20000101_20230331.csv\n",
      "499 180400_DXVX_20000101_20230331.csv\n",
      "500 071950_코아스_20000101_20230331.csv\n",
      "501 019175_신풍제약우_20000101_20230331.csv\n",
      "502 037030_파워넷_20000101_20230331.csv\n",
      "503 035720_카카오_20000101_20230331.csv\n",
      "504 027830_대성창투_20000101_20230331.csv\n",
      "505 078340_컴투스_20000101_20230331.csv\n",
      "507 002220_한일철강_20000101_20230331.csv\n",
      "508 004840_DRB동일_20000101_20230331.csv\n",
      "509 005800_신영와코루_20000101_20230331.csv\n",
      "510 138360_협진_20000101_20230331.csv\n",
      "512 011690_와이투솔루션_20000101_20230331.csv\n",
      "514 003100_선광_20000101_20230331.csv\n",
      "515 030350_드래곤플라이_20000101_20230331.csv\n",
      "517 066430_와이오엠_20000101_20230331.csv\n",
      "519 033180_KH 필룩스_20000101_20230331.csv\n",
      "520 060720_KH바텍_20000101_20230331.csv\n",
      "522 067080_대화제약_20000101_20230331.csv\n",
      "523 001750_한양증권_20000101_20230331.csv\n",
      "525 090350_노루페인트_20000101_20230331.csv\n",
      "528 069510_에스텍_20000101_20230331.csv\n",
      "529 068240_다원시스_20000101_20230331.csv\n",
      "531 100840_SNT에너지_20000101_20230331.csv\n",
      "532 039290_인포뱅크_20000101_20230331.csv\n",
      "533 052330_코텍_20000101_20230331.csv\n",
      "534 069620_대웅제약_20000101_20230331.csv\n",
      "536 037370_EG_20000101_20230331.csv\n",
      "537 001525_동양우_20000101_20230331.csv\n",
      "538 045340_토탈소프트_20000101_20230331.csv\n",
      "539 063570_한국전자금융_20000101_20230331.csv\n",
      "540 900110_이스트아시아홀딩스_20000101_20230331.csv\n",
      "542 066570_LG전자_20000101_20230331.csv\n",
      "543 041960_코미팜_20000101_20230331.csv\n",
      "544 101140_인바이오젠_20000101_20230331.csv\n",
      "545 042370_비츠로테크_20000101_20230331.csv\n",
      "548 032850_비트컴퓨터_20000101_20230331.csv\n",
      "550 023900_풍국주정_20000101_20230331.csv\n",
      "551 128940_한미약품_20000101_20230331.csv\n",
      "552 007815_코리아써우_20000101_20230331.csv\n",
      "553 008770_호텔신라_20000101_20230331.csv\n",
      "555 054540_삼영엠텍_20000101_20230331.csv\n",
      "556 079370_제우스_20000101_20230331.csv\n",
      "558 093230_이아이디_20000101_20230331.csv\n",
      "559 051905_LG생활건강우_20000101_20230331.csv\n",
      "560 017370_우신시스템_20000101_20230331.csv\n",
      "562 048410_현대바이오_20000101_20230331.csv\n",
      "563 035080_그래디언트_20000101_20230331.csv\n",
      "565 003490_대한항공_20000101_20230331.csv\n",
      "567 056190_에스에프에이_20000101_20230331.csv\n",
      "568 121600_나노신소재_20000101_20230331.csv\n",
      "571 109070_컨버즈_20000101_20230331.csv\n",
      "572 023810_인팩_20000101_20230331.csv\n",
      "574 008260_NI스틸_20000101_20230331.csv\n",
      "575 020560_아시아나항공_20000101_20230331.csv\n",
      "576 000810_삼성화재_20000101_20230331.csv\n",
      "578 004105_태양금속우_20000101_20230331.csv\n",
      "579 020760_일진디스플_20000101_20230331.csv\n",
      "580 131090_시큐브_20000101_20230331.csv\n",
      "581 039420_케이엘넷_20000101_20230331.csv\n",
      "582 064260_다날_20000101_20230331.csv\n",
      "583 065650_메디프론_20000101_20230331.csv\n",
      "586 097800_윈팩_20000101_20230331.csv\n",
      "587 009070_KCTC_20000101_20230331.csv\n",
      "588 032830_삼성생명_20000101_20230331.csv\n",
      "591 204840_지엘팜텍_20000101_20230331.csv\n",
      "592 060570_드림어스컴퍼니_20000101_20230331.csv\n",
      "593 040160_누리플렉스_20000101_20230331.csv\n",
      "595 086980_쇼박스_20000101_20230331.csv\n",
      "596 049080_기가레인_20000101_20230331.csv\n",
      "599 041190_우리기술투자_20000101_20230331.csv\n"
     ]
    },
    {
     "name": "stderr",
     "output_type": "stream",
     "text": [
      "GPU available: True (cuda), used: True\n",
      "TPU available: False, using: 0 TPU cores\n",
      "IPU available: False, using: 0 IPUs\n",
      "HPU available: False, using: 0 HPUs\n",
      "Attempting to retrain the model without resuming from a checkpoint. This is currently discouraged. Consider setting `save_checkpoints` to `True` and specifying `model_name` at model creation. Then call `model = NLinearModel.load_from_checkpoint(model_name, best=False)`. Finally, train the model with `model.fit(..., epochs=new_epochs)` where `new_epochs` is the sum of (epochs already trained + some additional epochs).\n",
      "LOCAL_RANK: 0 - CUDA_VISIBLE_DEVICES: [0]\n",
      "\n",
      "  | Name          | Type             | Params\n",
      "---------------------------------------------------\n",
      "0 | criterion     | MSELoss          | 0     \n",
      "1 | train_metrics | MetricCollection | 0     \n",
      "2 | val_metrics   | MetricCollection | 0     \n",
      "3 | layer         | Linear           | 1.2 K \n",
      "---------------------------------------------------\n",
      "1.2 K     Trainable params\n",
      "0         Non-trainable params\n",
      "1.2 K     Total params\n",
      "0.005     Total estimated model params size (MB)\n"
     ]
    },
    {
     "data": {
      "application/vnd.jupyter.widget-view+json": {
       "model_id": "",
       "version_major": 2,
       "version_minor": 0
      },
      "text/plain": [
       "Sanity Checking: 0it [00:00, ?it/s]"
      ]
     },
     "metadata": {},
     "output_type": "display_data"
    },
    {
     "data": {
      "application/vnd.jupyter.widget-view+json": {
       "model_id": "ab6daaf39992403681dd0f1bbdb3f39a",
       "version_major": 2,
       "version_minor": 0
      },
      "text/plain": [
       "Training: 0it [00:00, ?it/s]"
      ]
     },
     "metadata": {},
     "output_type": "display_data"
    },
    {
     "data": {
      "application/vnd.jupyter.widget-view+json": {
       "model_id": "",
       "version_major": 2,
       "version_minor": 0
      },
      "text/plain": [
       "Validation: 0it [00:00, ?it/s]"
      ]
     },
     "metadata": {},
     "output_type": "display_data"
    },
    {
     "name": "stdout",
     "output_type": "stream",
     "text": [
      "600 002320_한진_20000101_20230331.csv\n",
      "601 107640_한중엔시에스_20000101_20230331.csv\n",
      "603 003580_HLB글로벌_20000101_20230331.csv\n",
      "604 019490_하이트론_20000101_20230331.csv\n",
      "606 027710_팜스토리_20000101_20230331.csv\n",
      "607 011320_유니크_20000101_20230331.csv\n",
      "609 001790_대한제당_20000101_20230331.csv\n",
      "612 108675_LX하우시스우_20000101_20230331.csv\n",
      "616 051370_인터플렉스_20000101_20230331.csv\n",
      "617 012620_원일특강_20000101_20230331.csv\n",
      "618 037400_우리엔터프라이즈_20000101_20230331.csv\n",
      "620 105740_디케이락_20000101_20230331.csv\n",
      "621 001120_LX인터내셔널_20000101_20230331.csv\n",
      "622 073540_에프알텍_20000101_20230331.csv\n",
      "623 044380_주연테크_20000101_20230331.csv\n",
      "624 093640_다믈멀티미디어_20000101_20230331.csv\n",
      "628 091580_상신이디피_20000101_20230331.csv\n",
      "629 200350_래몽래인_20000101_20230331.csv\n",
      "631 005935_삼성전자우_20000101_20230331.csv\n",
      "632 011280_태림포장_20000101_20230331.csv\n",
      "633 138490_코오롱플라스틱_20000101_20230331.csv\n",
      "634 066970_엘앤에프_20000101_20230331.csv\n",
      "635 029460_케이씨_20000101_20230331.csv\n",
      "638 057030_YBM넷_20000101_20230331.csv\n",
      "641 073640_테라사이언스_20000101_20230331.csv\n",
      "642 117580_대성에너지_20000101_20230331.csv\n",
      "644 036630_세종텔레콤_20000101_20230331.csv\n",
      "645 092730_네오팜_20000101_20230331.csv\n",
      "651 068760_셀트리온제약_20000101_20230331.csv\n",
      "652 145995_삼양사우_20000101_20230331.csv\n",
      "654 019770_서연탑메탈_20000101_20230331.csv\n",
      "655 052860_아이앤씨_20000101_20230331.csv\n",
      "656 030000_제일기획_20000101_20230331.csv\n",
      "657 079000_와토스코리아_20000101_20230331.csv\n",
      "658 077500_유니퀘스트_20000101_20230331.csv\n",
      "660 034220_LG디스플레이_20000101_20230331.csv\n",
      "661 001390_KG케미칼_20000101_20230331.csv\n",
      "662 079170_한창산업_20000101_20230331.csv\n",
      "663 023800_인지컨트롤스_20000101_20230331.csv\n",
      "666 140290_청광건설_20000101_20230331.csv\n",
      "667 005940_NH투자증권_20000101_20230331.csv\n",
      "668 093320_케이아이엔엑스_20000101_20230331.csv\n",
      "669 065770_CS_20000101_20230331.csv\n",
      "670 035900_JYP Ent._20000101_20230331.csv\n",
      "671 003540_대신증권_20000101_20230331.csv\n",
      "672 030200_KT_20000101_20230331.csv\n",
      "674 011230_삼화전자_20000101_20230331.csv\n",
      "675 032960_동일기연_20000101_20230331.csv\n",
      "677 099440_스맥_20000101_20230331.csv\n",
      "678 206400_베노홀딩스_20000101_20230331.csv\n",
      "679 015020_이스타코_20000101_20230331.csv\n",
      "680 076080_웰크론한텍_20000101_20230331.csv\n",
      "682 018000_유니슨_20000101_20230331.csv\n",
      "683 000970_한국주철관_20000101_20230331.csv\n",
      "684 115610_이미지스_20000101_20230331.csv\n",
      "686 002620_제일파마홀딩스_20000101_20230331.csv\n",
      "687 004100_태양금속_20000101_20230331.csv\n",
      "688 121800_비덴트_20000101_20230331.csv\n",
      "689 041590_플래스크_20000101_20230331.csv\n",
      "690 052600_한네트_20000101_20230331.csv\n",
      "691 065560_녹원씨엔아이_20000101_20230331.csv\n",
      "692 000660_SK하이닉스_20000101_20230331.csv\n",
      "693 139480_이마트_20000101_20230331.csv\n",
      "696 088350_한화생명_20000101_20230331.csv\n",
      "697 067570_엔브이에이치코리아_20000101_20230331.csv\n",
      "698 033240_자화전자_20000101_20230331.csv\n",
      "699 186230_그린플러스_20000101_20230331.csv\n",
      "700 193250_와이제이엠게임즈_20000101_20230331.csv\n",
      "702 064290_인텍플러스_20000101_20230331.csv\n",
      "704 035810_이지홀딩스_20000101_20230331.csv\n",
      "705 123330_제닉_20000101_20230331.csv\n",
      "706 052300_초록뱀컴퍼니_20000101_20230331.csv\n",
      "707 088790_진도_20000101_20230331.csv\n",
      "708 018670_SK가스_20000101_20230331.csv\n",
      "710 023440_제이스코홀딩스_20000101_20230331.csv\n",
      "713 004140_동방_20000101_20230331.csv\n",
      "714 000440_중앙에너비스_20000101_20230331.csv\n",
      "716 049470_SGA_20000101_20230331.csv\n",
      "718 008060_대덕_20000101_20230331.csv\n",
      "722 039310_세중_20000101_20230331.csv\n",
      "723 002420_세기상사_20000101_20230331.csv\n",
      "724 079940_가비아_20000101_20230331.csv\n",
      "725 017480_삼현철강_20000101_20230331.csv\n",
      "729 101160_월덱스_20000101_20230331.csv\n",
      "730 007530_영신금속_20000101_20230331.csv\n",
      "731 010580_에스엠벡셀_20000101_20230331.csv\n",
      "733 049180_셀루메드_20000101_20230331.csv\n",
      "734 047310_파워로직스_20000101_20230331.csv\n",
      "735 010620_현대미포조선_20000101_20230331.csv\n",
      "736 023350_한국종합기술_20000101_20230331.csv\n",
      "737 071850_캐스텍코리아_20000101_20230331.csv\n",
      "742 001570_금양_20000101_20230331.csv\n",
      "744 114920_대주이엔티_20000101_20230331.csv\n",
      "747 016380_KG스틸_20000101_20230331.csv\n",
      "753 068270_셀트리온_20000101_20230331.csv\n",
      "754 041520_이라이콤_20000101_20230331.csv\n",
      "755 114630_폴라리스우노_20000101_20230331.csv\n",
      "756 116100_태양기계_20000101_20230331.csv\n",
      "757 006570_대림통상_20000101_20230331.csv\n",
      "758 005380_현대차_20000101_20230331.csv\n"
     ]
    },
    {
     "name": "stderr",
     "output_type": "stream",
     "text": [
      "GPU available: True (cuda), used: True\n",
      "TPU available: False, using: 0 TPU cores\n",
      "IPU available: False, using: 0 IPUs\n",
      "HPU available: False, using: 0 HPUs\n",
      "Attempting to retrain the model without resuming from a checkpoint. This is currently discouraged. Consider setting `save_checkpoints` to `True` and specifying `model_name` at model creation. Then call `model = NLinearModel.load_from_checkpoint(model_name, best=False)`. Finally, train the model with `model.fit(..., epochs=new_epochs)` where `new_epochs` is the sum of (epochs already trained + some additional epochs).\n",
      "LOCAL_RANK: 0 - CUDA_VISIBLE_DEVICES: [0]\n",
      "\n",
      "  | Name          | Type             | Params\n",
      "---------------------------------------------------\n",
      "0 | criterion     | MSELoss          | 0     \n",
      "1 | train_metrics | MetricCollection | 0     \n",
      "2 | val_metrics   | MetricCollection | 0     \n",
      "3 | layer         | Linear           | 1.2 K \n",
      "---------------------------------------------------\n",
      "1.2 K     Trainable params\n",
      "0         Non-trainable params\n",
      "1.2 K     Total params\n",
      "0.005     Total estimated model params size (MB)\n"
     ]
    },
    {
     "data": {
      "application/vnd.jupyter.widget-view+json": {
       "model_id": "",
       "version_major": 2,
       "version_minor": 0
      },
      "text/plain": [
       "Sanity Checking: 0it [00:00, ?it/s]"
      ]
     },
     "metadata": {},
     "output_type": "display_data"
    },
    {
     "data": {
      "application/vnd.jupyter.widget-view+json": {
       "model_id": "ff0084c20241460e9cdb9f6fbda8e64f",
       "version_major": 2,
       "version_minor": 0
      },
      "text/plain": [
       "Training: 0it [00:00, ?it/s]"
      ]
     },
     "metadata": {},
     "output_type": "display_data"
    },
    {
     "data": {
      "application/vnd.jupyter.widget-view+json": {
       "model_id": "",
       "version_major": 2,
       "version_minor": 0
      },
      "text/plain": [
       "Validation: 0it [00:00, ?it/s]"
      ]
     },
     "metadata": {},
     "output_type": "display_data"
    },
    {
     "name": "stdout",
     "output_type": "stream",
     "text": [
      "759 054050_농우바이오_20000101_20230331.csv\n",
      "760 091590_남화토건_20000101_20230331.csv\n",
      "761 010040_한국내화_20000101_20230331.csv\n",
      "763 077970_STX엔진_20000101_20230331.csv\n",
      "765 010280_쌍용정보통신_20000101_20230331.csv\n",
      "767 001080_만호제강_20000101_20230331.csv\n",
      "768 079430_현대리바트_20000101_20230331.csv\n"
     ]
    },
    {
     "ename": "KeyboardInterrupt",
     "evalue": "",
     "output_type": "error",
     "traceback": [
      "\u001b[0;31m---------------------------------------------------------------------------\u001b[0m",
      "\u001b[0;31mKeyboardInterrupt\u001b[0m                         Traceback (most recent call last)",
      "Cell \u001b[0;32mIn[19], line 38\u001b[0m\n\u001b[1;32m     35\u001b[0m copy_list_val_scaled_past_cov \u001b[38;5;241m=\u001b[39m []\n\u001b[1;32m     37\u001b[0m \u001b[38;5;28;01mfor\u001b[39;00m i, file_name \u001b[38;5;129;01min\u001b[39;00m \u001b[38;5;28menumerate\u001b[39m(os\u001b[38;5;241m.\u001b[39mlistdir(base_path)):\n\u001b[0;32m---> 38\u001b[0m     df \u001b[38;5;241m=\u001b[39m \u001b[43mpd\u001b[49m\u001b[38;5;241;43m.\u001b[39;49m\u001b[43mread_excel\u001b[49m\u001b[43m(\u001b[49m\u001b[43mbase_path\u001b[49m\u001b[43m \u001b[49m\u001b[38;5;241;43m+\u001b[39;49m\u001b[43m \u001b[49m\u001b[43mfile_name\u001b[49m\u001b[43m)\u001b[49m\u001b[38;5;241m.\u001b[39mrename(columns\u001b[38;5;241m=\u001b[39mcolumn_mapping)\n\u001b[1;32m     39\u001b[0m     df[\u001b[38;5;124m'\u001b[39m\u001b[38;5;124mdate\u001b[39m\u001b[38;5;124m'\u001b[39m] \u001b[38;5;241m=\u001b[39m pd\u001b[38;5;241m.\u001b[39mto_datetime(df[\u001b[38;5;124m'\u001b[39m\u001b[38;5;124mdate\u001b[39m\u001b[38;5;124m'\u001b[39m])\n\u001b[1;32m     40\u001b[0m     df\u001b[38;5;241m.\u001b[39mset_index(\u001b[38;5;124m'\u001b[39m\u001b[38;5;124mdate\u001b[39m\u001b[38;5;124m'\u001b[39m, inplace\u001b[38;5;241m=\u001b[39m\u001b[38;5;28;01mTrue\u001b[39;00m)\n",
      "File \u001b[0;32m~/miniconda3/envs/stock/lib/python3.10/site-packages/pandas/util/_decorators.py:211\u001b[0m, in \u001b[0;36mdeprecate_kwarg.<locals>._deprecate_kwarg.<locals>.wrapper\u001b[0;34m(*args, **kwargs)\u001b[0m\n\u001b[1;32m    209\u001b[0m     \u001b[38;5;28;01melse\u001b[39;00m:\n\u001b[1;32m    210\u001b[0m         kwargs[new_arg_name] \u001b[38;5;241m=\u001b[39m new_arg_value\n\u001b[0;32m--> 211\u001b[0m \u001b[38;5;28;01mreturn\u001b[39;00m \u001b[43mfunc\u001b[49m\u001b[43m(\u001b[49m\u001b[38;5;241;43m*\u001b[39;49m\u001b[43margs\u001b[49m\u001b[43m,\u001b[49m\u001b[43m \u001b[49m\u001b[38;5;241;43m*\u001b[39;49m\u001b[38;5;241;43m*\u001b[39;49m\u001b[43mkwargs\u001b[49m\u001b[43m)\u001b[49m\n",
      "File \u001b[0;32m~/miniconda3/envs/stock/lib/python3.10/site-packages/pandas/util/_decorators.py:331\u001b[0m, in \u001b[0;36mdeprecate_nonkeyword_arguments.<locals>.decorate.<locals>.wrapper\u001b[0;34m(*args, **kwargs)\u001b[0m\n\u001b[1;32m    325\u001b[0m \u001b[38;5;28;01mif\u001b[39;00m \u001b[38;5;28mlen\u001b[39m(args) \u001b[38;5;241m>\u001b[39m num_allow_args:\n\u001b[1;32m    326\u001b[0m     warnings\u001b[38;5;241m.\u001b[39mwarn(\n\u001b[1;32m    327\u001b[0m         msg\u001b[38;5;241m.\u001b[39mformat(arguments\u001b[38;5;241m=\u001b[39m_format_argument_list(allow_args)),\n\u001b[1;32m    328\u001b[0m         \u001b[38;5;167;01mFutureWarning\u001b[39;00m,\n\u001b[1;32m    329\u001b[0m         stacklevel\u001b[38;5;241m=\u001b[39mfind_stack_level(),\n\u001b[1;32m    330\u001b[0m     )\n\u001b[0;32m--> 331\u001b[0m \u001b[38;5;28;01mreturn\u001b[39;00m \u001b[43mfunc\u001b[49m\u001b[43m(\u001b[49m\u001b[38;5;241;43m*\u001b[39;49m\u001b[43margs\u001b[49m\u001b[43m,\u001b[49m\u001b[43m \u001b[49m\u001b[38;5;241;43m*\u001b[39;49m\u001b[38;5;241;43m*\u001b[39;49m\u001b[43mkwargs\u001b[49m\u001b[43m)\u001b[49m\n",
      "File \u001b[0;32m~/miniconda3/envs/stock/lib/python3.10/site-packages/pandas/io/excel/_base.py:490\u001b[0m, in \u001b[0;36mread_excel\u001b[0;34m(io, sheet_name, header, names, index_col, usecols, squeeze, dtype, engine, converters, true_values, false_values, skiprows, nrows, na_values, keep_default_na, na_filter, verbose, parse_dates, date_parser, thousands, decimal, comment, skipfooter, convert_float, mangle_dupe_cols, storage_options)\u001b[0m\n\u001b[1;32m    484\u001b[0m     \u001b[38;5;28;01mraise\u001b[39;00m \u001b[38;5;167;01mValueError\u001b[39;00m(\n\u001b[1;32m    485\u001b[0m         \u001b[38;5;124m\"\u001b[39m\u001b[38;5;124mEngine should not be specified when passing \u001b[39m\u001b[38;5;124m\"\u001b[39m\n\u001b[1;32m    486\u001b[0m         \u001b[38;5;124m\"\u001b[39m\u001b[38;5;124man ExcelFile - ExcelFile already has the engine set\u001b[39m\u001b[38;5;124m\"\u001b[39m\n\u001b[1;32m    487\u001b[0m     )\n\u001b[1;32m    489\u001b[0m \u001b[38;5;28;01mtry\u001b[39;00m:\n\u001b[0;32m--> 490\u001b[0m     data \u001b[38;5;241m=\u001b[39m \u001b[43mio\u001b[49m\u001b[38;5;241;43m.\u001b[39;49m\u001b[43mparse\u001b[49m\u001b[43m(\u001b[49m\n\u001b[1;32m    491\u001b[0m \u001b[43m        \u001b[49m\u001b[43msheet_name\u001b[49m\u001b[38;5;241;43m=\u001b[39;49m\u001b[43msheet_name\u001b[49m\u001b[43m,\u001b[49m\n\u001b[1;32m    492\u001b[0m \u001b[43m        \u001b[49m\u001b[43mheader\u001b[49m\u001b[38;5;241;43m=\u001b[39;49m\u001b[43mheader\u001b[49m\u001b[43m,\u001b[49m\n\u001b[1;32m    493\u001b[0m \u001b[43m        \u001b[49m\u001b[43mnames\u001b[49m\u001b[38;5;241;43m=\u001b[39;49m\u001b[43mnames\u001b[49m\u001b[43m,\u001b[49m\n\u001b[1;32m    494\u001b[0m \u001b[43m        \u001b[49m\u001b[43mindex_col\u001b[49m\u001b[38;5;241;43m=\u001b[39;49m\u001b[43mindex_col\u001b[49m\u001b[43m,\u001b[49m\n\u001b[1;32m    495\u001b[0m \u001b[43m        \u001b[49m\u001b[43musecols\u001b[49m\u001b[38;5;241;43m=\u001b[39;49m\u001b[43musecols\u001b[49m\u001b[43m,\u001b[49m\n\u001b[1;32m    496\u001b[0m \u001b[43m        \u001b[49m\u001b[43msqueeze\u001b[49m\u001b[38;5;241;43m=\u001b[39;49m\u001b[43msqueeze\u001b[49m\u001b[43m,\u001b[49m\n\u001b[1;32m    497\u001b[0m \u001b[43m        \u001b[49m\u001b[43mdtype\u001b[49m\u001b[38;5;241;43m=\u001b[39;49m\u001b[43mdtype\u001b[49m\u001b[43m,\u001b[49m\n\u001b[1;32m    498\u001b[0m \u001b[43m        \u001b[49m\u001b[43mconverters\u001b[49m\u001b[38;5;241;43m=\u001b[39;49m\u001b[43mconverters\u001b[49m\u001b[43m,\u001b[49m\n\u001b[1;32m    499\u001b[0m \u001b[43m        \u001b[49m\u001b[43mtrue_values\u001b[49m\u001b[38;5;241;43m=\u001b[39;49m\u001b[43mtrue_values\u001b[49m\u001b[43m,\u001b[49m\n\u001b[1;32m    500\u001b[0m \u001b[43m        \u001b[49m\u001b[43mfalse_values\u001b[49m\u001b[38;5;241;43m=\u001b[39;49m\u001b[43mfalse_values\u001b[49m\u001b[43m,\u001b[49m\n\u001b[1;32m    501\u001b[0m \u001b[43m        \u001b[49m\u001b[43mskiprows\u001b[49m\u001b[38;5;241;43m=\u001b[39;49m\u001b[43mskiprows\u001b[49m\u001b[43m,\u001b[49m\n\u001b[1;32m    502\u001b[0m \u001b[43m        \u001b[49m\u001b[43mnrows\u001b[49m\u001b[38;5;241;43m=\u001b[39;49m\u001b[43mnrows\u001b[49m\u001b[43m,\u001b[49m\n\u001b[1;32m    503\u001b[0m \u001b[43m        \u001b[49m\u001b[43mna_values\u001b[49m\u001b[38;5;241;43m=\u001b[39;49m\u001b[43mna_values\u001b[49m\u001b[43m,\u001b[49m\n\u001b[1;32m    504\u001b[0m \u001b[43m        \u001b[49m\u001b[43mkeep_default_na\u001b[49m\u001b[38;5;241;43m=\u001b[39;49m\u001b[43mkeep_default_na\u001b[49m\u001b[43m,\u001b[49m\n\u001b[1;32m    505\u001b[0m \u001b[43m        \u001b[49m\u001b[43mna_filter\u001b[49m\u001b[38;5;241;43m=\u001b[39;49m\u001b[43mna_filter\u001b[49m\u001b[43m,\u001b[49m\n\u001b[1;32m    506\u001b[0m \u001b[43m        \u001b[49m\u001b[43mverbose\u001b[49m\u001b[38;5;241;43m=\u001b[39;49m\u001b[43mverbose\u001b[49m\u001b[43m,\u001b[49m\n\u001b[1;32m    507\u001b[0m \u001b[43m        \u001b[49m\u001b[43mparse_dates\u001b[49m\u001b[38;5;241;43m=\u001b[39;49m\u001b[43mparse_dates\u001b[49m\u001b[43m,\u001b[49m\n\u001b[1;32m    508\u001b[0m \u001b[43m        \u001b[49m\u001b[43mdate_parser\u001b[49m\u001b[38;5;241;43m=\u001b[39;49m\u001b[43mdate_parser\u001b[49m\u001b[43m,\u001b[49m\n\u001b[1;32m    509\u001b[0m \u001b[43m        \u001b[49m\u001b[43mthousands\u001b[49m\u001b[38;5;241;43m=\u001b[39;49m\u001b[43mthousands\u001b[49m\u001b[43m,\u001b[49m\n\u001b[1;32m    510\u001b[0m \u001b[43m        \u001b[49m\u001b[43mdecimal\u001b[49m\u001b[38;5;241;43m=\u001b[39;49m\u001b[43mdecimal\u001b[49m\u001b[43m,\u001b[49m\n\u001b[1;32m    511\u001b[0m \u001b[43m        \u001b[49m\u001b[43mcomment\u001b[49m\u001b[38;5;241;43m=\u001b[39;49m\u001b[43mcomment\u001b[49m\u001b[43m,\u001b[49m\n\u001b[1;32m    512\u001b[0m \u001b[43m        \u001b[49m\u001b[43mskipfooter\u001b[49m\u001b[38;5;241;43m=\u001b[39;49m\u001b[43mskipfooter\u001b[49m\u001b[43m,\u001b[49m\n\u001b[1;32m    513\u001b[0m \u001b[43m        \u001b[49m\u001b[43mconvert_float\u001b[49m\u001b[38;5;241;43m=\u001b[39;49m\u001b[43mconvert_float\u001b[49m\u001b[43m,\u001b[49m\n\u001b[1;32m    514\u001b[0m \u001b[43m        \u001b[49m\u001b[43mmangle_dupe_cols\u001b[49m\u001b[38;5;241;43m=\u001b[39;49m\u001b[43mmangle_dupe_cols\u001b[49m\u001b[43m,\u001b[49m\n\u001b[1;32m    515\u001b[0m \u001b[43m    \u001b[49m\u001b[43m)\u001b[49m\n\u001b[1;32m    516\u001b[0m \u001b[38;5;28;01mfinally\u001b[39;00m:\n\u001b[1;32m    517\u001b[0m     \u001b[38;5;66;03m# make sure to close opened file handles\u001b[39;00m\n\u001b[1;32m    518\u001b[0m     \u001b[38;5;28;01mif\u001b[39;00m should_close:\n",
      "File \u001b[0;32m~/miniconda3/envs/stock/lib/python3.10/site-packages/pandas/io/excel/_base.py:1734\u001b[0m, in \u001b[0;36mExcelFile.parse\u001b[0;34m(self, sheet_name, header, names, index_col, usecols, squeeze, converters, true_values, false_values, skiprows, nrows, na_values, parse_dates, date_parser, thousands, comment, skipfooter, convert_float, mangle_dupe_cols, **kwds)\u001b[0m\n\u001b[1;32m   1700\u001b[0m \u001b[38;5;28;01mdef\u001b[39;00m \u001b[38;5;21mparse\u001b[39m(\n\u001b[1;32m   1701\u001b[0m     \u001b[38;5;28mself\u001b[39m,\n\u001b[1;32m   1702\u001b[0m     sheet_name: \u001b[38;5;28mstr\u001b[39m \u001b[38;5;241m|\u001b[39m \u001b[38;5;28mint\u001b[39m \u001b[38;5;241m|\u001b[39m \u001b[38;5;28mlist\u001b[39m[\u001b[38;5;28mint\u001b[39m] \u001b[38;5;241m|\u001b[39m \u001b[38;5;28mlist\u001b[39m[\u001b[38;5;28mstr\u001b[39m] \u001b[38;5;241m|\u001b[39m \u001b[38;5;28;01mNone\u001b[39;00m \u001b[38;5;241m=\u001b[39m \u001b[38;5;241m0\u001b[39m,\n\u001b[0;32m   (...)\u001b[0m\n\u001b[1;32m   1721\u001b[0m     \u001b[38;5;241m*\u001b[39m\u001b[38;5;241m*\u001b[39mkwds,\n\u001b[1;32m   1722\u001b[0m ) \u001b[38;5;241m-\u001b[39m\u001b[38;5;241m>\u001b[39m DataFrame \u001b[38;5;241m|\u001b[39m \u001b[38;5;28mdict\u001b[39m[\u001b[38;5;28mstr\u001b[39m, DataFrame] \u001b[38;5;241m|\u001b[39m \u001b[38;5;28mdict\u001b[39m[\u001b[38;5;28mint\u001b[39m, DataFrame]:\n\u001b[1;32m   1723\u001b[0m     \u001b[38;5;124;03m\"\"\"\u001b[39;00m\n\u001b[1;32m   1724\u001b[0m \u001b[38;5;124;03m    Parse specified sheet(s) into a DataFrame.\u001b[39;00m\n\u001b[1;32m   1725\u001b[0m \n\u001b[0;32m   (...)\u001b[0m\n\u001b[1;32m   1732\u001b[0m \u001b[38;5;124;03m        DataFrame from the passed in Excel file.\u001b[39;00m\n\u001b[1;32m   1733\u001b[0m \u001b[38;5;124;03m    \"\"\"\u001b[39;00m\n\u001b[0;32m-> 1734\u001b[0m     \u001b[38;5;28;01mreturn\u001b[39;00m \u001b[38;5;28;43mself\u001b[39;49m\u001b[38;5;241;43m.\u001b[39;49m\u001b[43m_reader\u001b[49m\u001b[38;5;241;43m.\u001b[39;49m\u001b[43mparse\u001b[49m\u001b[43m(\u001b[49m\n\u001b[1;32m   1735\u001b[0m \u001b[43m        \u001b[49m\u001b[43msheet_name\u001b[49m\u001b[38;5;241;43m=\u001b[39;49m\u001b[43msheet_name\u001b[49m\u001b[43m,\u001b[49m\n\u001b[1;32m   1736\u001b[0m \u001b[43m        \u001b[49m\u001b[43mheader\u001b[49m\u001b[38;5;241;43m=\u001b[39;49m\u001b[43mheader\u001b[49m\u001b[43m,\u001b[49m\n\u001b[1;32m   1737\u001b[0m \u001b[43m        \u001b[49m\u001b[43mnames\u001b[49m\u001b[38;5;241;43m=\u001b[39;49m\u001b[43mnames\u001b[49m\u001b[43m,\u001b[49m\n\u001b[1;32m   1738\u001b[0m \u001b[43m        \u001b[49m\u001b[43mindex_col\u001b[49m\u001b[38;5;241;43m=\u001b[39;49m\u001b[43mindex_col\u001b[49m\u001b[43m,\u001b[49m\n\u001b[1;32m   1739\u001b[0m \u001b[43m        \u001b[49m\u001b[43musecols\u001b[49m\u001b[38;5;241;43m=\u001b[39;49m\u001b[43musecols\u001b[49m\u001b[43m,\u001b[49m\n\u001b[1;32m   1740\u001b[0m \u001b[43m        \u001b[49m\u001b[43msqueeze\u001b[49m\u001b[38;5;241;43m=\u001b[39;49m\u001b[43msqueeze\u001b[49m\u001b[43m,\u001b[49m\n\u001b[1;32m   1741\u001b[0m \u001b[43m        \u001b[49m\u001b[43mconverters\u001b[49m\u001b[38;5;241;43m=\u001b[39;49m\u001b[43mconverters\u001b[49m\u001b[43m,\u001b[49m\n\u001b[1;32m   1742\u001b[0m \u001b[43m        \u001b[49m\u001b[43mtrue_values\u001b[49m\u001b[38;5;241;43m=\u001b[39;49m\u001b[43mtrue_values\u001b[49m\u001b[43m,\u001b[49m\n\u001b[1;32m   1743\u001b[0m \u001b[43m        \u001b[49m\u001b[43mfalse_values\u001b[49m\u001b[38;5;241;43m=\u001b[39;49m\u001b[43mfalse_values\u001b[49m\u001b[43m,\u001b[49m\n\u001b[1;32m   1744\u001b[0m \u001b[43m        \u001b[49m\u001b[43mskiprows\u001b[49m\u001b[38;5;241;43m=\u001b[39;49m\u001b[43mskiprows\u001b[49m\u001b[43m,\u001b[49m\n\u001b[1;32m   1745\u001b[0m \u001b[43m        \u001b[49m\u001b[43mnrows\u001b[49m\u001b[38;5;241;43m=\u001b[39;49m\u001b[43mnrows\u001b[49m\u001b[43m,\u001b[49m\n\u001b[1;32m   1746\u001b[0m \u001b[43m        \u001b[49m\u001b[43mna_values\u001b[49m\u001b[38;5;241;43m=\u001b[39;49m\u001b[43mna_values\u001b[49m\u001b[43m,\u001b[49m\n\u001b[1;32m   1747\u001b[0m \u001b[43m        \u001b[49m\u001b[43mparse_dates\u001b[49m\u001b[38;5;241;43m=\u001b[39;49m\u001b[43mparse_dates\u001b[49m\u001b[43m,\u001b[49m\n\u001b[1;32m   1748\u001b[0m \u001b[43m        \u001b[49m\u001b[43mdate_parser\u001b[49m\u001b[38;5;241;43m=\u001b[39;49m\u001b[43mdate_parser\u001b[49m\u001b[43m,\u001b[49m\n\u001b[1;32m   1749\u001b[0m \u001b[43m        \u001b[49m\u001b[43mthousands\u001b[49m\u001b[38;5;241;43m=\u001b[39;49m\u001b[43mthousands\u001b[49m\u001b[43m,\u001b[49m\n\u001b[1;32m   1750\u001b[0m \u001b[43m        \u001b[49m\u001b[43mcomment\u001b[49m\u001b[38;5;241;43m=\u001b[39;49m\u001b[43mcomment\u001b[49m\u001b[43m,\u001b[49m\n\u001b[1;32m   1751\u001b[0m \u001b[43m        \u001b[49m\u001b[43mskipfooter\u001b[49m\u001b[38;5;241;43m=\u001b[39;49m\u001b[43mskipfooter\u001b[49m\u001b[43m,\u001b[49m\n\u001b[1;32m   1752\u001b[0m \u001b[43m        \u001b[49m\u001b[43mconvert_float\u001b[49m\u001b[38;5;241;43m=\u001b[39;49m\u001b[43mconvert_float\u001b[49m\u001b[43m,\u001b[49m\n\u001b[1;32m   1753\u001b[0m \u001b[43m        \u001b[49m\u001b[43mmangle_dupe_cols\u001b[49m\u001b[38;5;241;43m=\u001b[39;49m\u001b[43mmangle_dupe_cols\u001b[49m\u001b[43m,\u001b[49m\n\u001b[1;32m   1754\u001b[0m \u001b[43m        \u001b[49m\u001b[38;5;241;43m*\u001b[39;49m\u001b[38;5;241;43m*\u001b[39;49m\u001b[43mkwds\u001b[49m\u001b[43m,\u001b[49m\n\u001b[1;32m   1755\u001b[0m \u001b[43m    \u001b[49m\u001b[43m)\u001b[49m\n",
      "File \u001b[0;32m~/miniconda3/envs/stock/lib/python3.10/site-packages/pandas/io/excel/_base.py:765\u001b[0m, in \u001b[0;36mBaseExcelReader.parse\u001b[0;34m(self, sheet_name, header, names, index_col, usecols, squeeze, dtype, true_values, false_values, skiprows, nrows, na_values, verbose, parse_dates, date_parser, thousands, decimal, comment, skipfooter, convert_float, mangle_dupe_cols, **kwds)\u001b[0m\n\u001b[1;32m    762\u001b[0m     sheet \u001b[38;5;241m=\u001b[39m \u001b[38;5;28mself\u001b[39m\u001b[38;5;241m.\u001b[39mget_sheet_by_index(asheetname)\n\u001b[1;32m    764\u001b[0m file_rows_needed \u001b[38;5;241m=\u001b[39m \u001b[38;5;28mself\u001b[39m\u001b[38;5;241m.\u001b[39m_calc_rows(header, index_col, skiprows, nrows)\n\u001b[0;32m--> 765\u001b[0m data \u001b[38;5;241m=\u001b[39m \u001b[38;5;28;43mself\u001b[39;49m\u001b[38;5;241;43m.\u001b[39;49m\u001b[43mget_sheet_data\u001b[49m\u001b[43m(\u001b[49m\u001b[43msheet\u001b[49m\u001b[43m,\u001b[49m\u001b[43m \u001b[49m\u001b[43mconvert_float\u001b[49m\u001b[43m,\u001b[49m\u001b[43m \u001b[49m\u001b[43mfile_rows_needed\u001b[49m\u001b[43m)\u001b[49m\n\u001b[1;32m    766\u001b[0m \u001b[38;5;28;01mif\u001b[39;00m \u001b[38;5;28mhasattr\u001b[39m(sheet, \u001b[38;5;124m\"\u001b[39m\u001b[38;5;124mclose\u001b[39m\u001b[38;5;124m\"\u001b[39m):\n\u001b[1;32m    767\u001b[0m     \u001b[38;5;66;03m# pyxlsb opens two TemporaryFiles\u001b[39;00m\n\u001b[1;32m    768\u001b[0m     sheet\u001b[38;5;241m.\u001b[39mclose()\n",
      "File \u001b[0;32m~/miniconda3/envs/stock/lib/python3.10/site-packages/pandas/io/excel/_openpyxl.py:615\u001b[0m, in \u001b[0;36mOpenpyxlReader.get_sheet_data\u001b[0;34m(self, sheet, convert_float, file_rows_needed)\u001b[0m\n\u001b[1;32m    613\u001b[0m data: \u001b[38;5;28mlist\u001b[39m[\u001b[38;5;28mlist\u001b[39m[Scalar]] \u001b[38;5;241m=\u001b[39m []\n\u001b[1;32m    614\u001b[0m last_row_with_data \u001b[38;5;241m=\u001b[39m \u001b[38;5;241m-\u001b[39m\u001b[38;5;241m1\u001b[39m\n\u001b[0;32m--> 615\u001b[0m \u001b[38;5;28;01mfor\u001b[39;00m row_number, row \u001b[38;5;129;01min\u001b[39;00m \u001b[38;5;28menumerate\u001b[39m(sheet\u001b[38;5;241m.\u001b[39mrows):\n\u001b[1;32m    616\u001b[0m     converted_row \u001b[38;5;241m=\u001b[39m [\u001b[38;5;28mself\u001b[39m\u001b[38;5;241m.\u001b[39m_convert_cell(cell, convert_float) \u001b[38;5;28;01mfor\u001b[39;00m cell \u001b[38;5;129;01min\u001b[39;00m row]\n\u001b[1;32m    617\u001b[0m     \u001b[38;5;28;01mwhile\u001b[39;00m converted_row \u001b[38;5;129;01mand\u001b[39;00m converted_row[\u001b[38;5;241m-\u001b[39m\u001b[38;5;241m1\u001b[39m] \u001b[38;5;241m==\u001b[39m \u001b[38;5;124m\"\u001b[39m\u001b[38;5;124m\"\u001b[39m:\n\u001b[1;32m    618\u001b[0m         \u001b[38;5;66;03m# trim trailing empty elements\u001b[39;00m\n",
      "File \u001b[0;32m~/miniconda3/envs/stock/lib/python3.10/site-packages/openpyxl/worksheet/_read_only.py:80\u001b[0m, in \u001b[0;36mReadOnlyWorksheet._cells_by_row\u001b[0;34m(self, min_col, min_row, max_col, max_row, values_only)\u001b[0m\n\u001b[1;32m     76\u001b[0m parser \u001b[38;5;241m=\u001b[39m WorkSheetParser(src, \u001b[38;5;28mself\u001b[39m\u001b[38;5;241m.\u001b[39m_shared_strings,\n\u001b[1;32m     77\u001b[0m                          data_only\u001b[38;5;241m=\u001b[39m\u001b[38;5;28mself\u001b[39m\u001b[38;5;241m.\u001b[39mparent\u001b[38;5;241m.\u001b[39mdata_only, epoch\u001b[38;5;241m=\u001b[39m\u001b[38;5;28mself\u001b[39m\u001b[38;5;241m.\u001b[39mparent\u001b[38;5;241m.\u001b[39mepoch,\n\u001b[1;32m     78\u001b[0m                          date_formats\u001b[38;5;241m=\u001b[39m\u001b[38;5;28mself\u001b[39m\u001b[38;5;241m.\u001b[39mparent\u001b[38;5;241m.\u001b[39m_date_formats)\n\u001b[1;32m     79\u001b[0m \u001b[38;5;28;01mfor\u001b[39;00m idx, row \u001b[38;5;129;01min\u001b[39;00m parser\u001b[38;5;241m.\u001b[39mparse():\n\u001b[0;32m---> 80\u001b[0m     \u001b[38;5;28;01mif\u001b[39;00m max_row \u001b[38;5;129;01mis\u001b[39;00m \u001b[38;5;129;01mnot\u001b[39;00m \u001b[38;5;28;01mNone\u001b[39;00m \u001b[38;5;129;01mand\u001b[39;00m idx \u001b[38;5;241m>\u001b[39m max_row:\n\u001b[1;32m     81\u001b[0m         \u001b[38;5;28;01mbreak\u001b[39;00m\n\u001b[1;32m     83\u001b[0m     \u001b[38;5;66;03m# some rows are missing\u001b[39;00m\n",
      "\u001b[0;31mKeyboardInterrupt\u001b[0m: "
     ]
    }
   ],
   "source": [
    "\"\"\"\n",
    "    아래 코드의 속도 개선 중\n",
    "\"\"\"\n",
    "import time\n",
    "import warnings\n",
    "\n",
    "# Ignore warnings\n",
    "warnings.filterwarnings('ignore')\n",
    "start_time = time.time()\n",
    "\n",
    "\n",
    "start_date = '2015-01-01'\n",
    "end_date = '2023-03-31'\n",
    "\n",
    "interpolate_list = ['closing_price'] + past_cov_list\n",
    "\n",
    "list_stock_timeseries = []\n",
    "\n",
    "list_train_series_scaled = []\n",
    "list_val_series_scaled = []\n",
    "list_scaler = []\n",
    "\n",
    "list_scaled_past_cov = []\n",
    "list_train_scaled_past_cov = []\n",
    "list_val_scaled_past_cov = []\n",
    "\n",
    "list_scaled_future_cov = []\n",
    "list_train_scaled_future_cov = []\n",
    "list_val_scaled_future_cov = []\n",
    "\n",
    "c = 0\n",
    "copy_list_train_series_scaled = []\n",
    "copy_list_train_scaled_past_cov = []\n",
    "copy_list_val_series_scaled = []\n",
    "copy_list_val_scaled_past_cov = []\n",
    "\n",
    "for i, file_name in enumerate(os.listdir(base_path)):\n",
    "    df = pd.read_excel(base_path + file_name).rename(columns=column_mapping)\n",
    "    df['date'] = pd.to_datetime(df['date'])\n",
    "    df.set_index('date', inplace=True)\n",
    "    if len(df.loc[:start_date]) == 0: # start_date 이전 날짜 데이터가 없는 경우는 무시. 따라서 start_date 이후 상장된 주식은 훈련 X\n",
    "        continue\n",
    "    df = df.loc[start_date:end_date]\n",
    "    # 9.68초\n",
    "    \n",
    "    print(i, file_name)\n",
    "    \n",
    "    # Date interpolate\n",
    "    stock_timeseries_df_interpolated = df.copy()\n",
    "    stock_timeseries_df_interpolated = stock_timeseries_df_interpolated.asfreq('B')\n",
    "    for col in interpolate_list:\n",
    "        stock_timeseries_df_interpolated[col] = stock_timeseries_df_interpolated[col].interpolate(method='linear')\n",
    "    df = stock_timeseries_df_interpolated\n",
    "    # 25.73초\n",
    "    \n",
    "    timeseries = TimeSeries.from_dataframe(df)\n",
    "    # 40.93초\n",
    "    \n",
    "    \n",
    "    # Darts TimeSeries 변환 및 날짜 필터링\n",
    "    stock_timeseries = timeseries['closing_price']\n",
    "    list_stock_timeseries.append(stock_timeseries)\n",
    "\n",
    "    # Past covariant 및 날짜 필터링\n",
    "    scaled_past_cov_timeseries = getScaledPastCov(timeseries)\n",
    "    list_scaled_past_cov.append(scaled_past_cov_timeseries)\n",
    "    # 159.89초\n",
    "    \n",
    "    # Split train/validation set\n",
    "    train_percentage = 0.8\n",
    "    split_index = int(train_percentage * len(stock_timeseries))\n",
    "    \n",
    "    train_series, val_series = stock_timeseries[:split_index], stock_timeseries[split_index:]\n",
    "    train_past_cov_series, val_past_cov_series = scaled_past_cov_timeseries[:split_index], scaled_past_cov_timeseries[split_index:]\n",
    "    \n",
    "    list_train_scaled_past_cov.append(train_past_cov_series)\n",
    "    list_val_scaled_past_cov.append(val_past_cov_series)\n",
    "    \n",
    "    # Scale\n",
    "    scaler = Scaler()\n",
    "    train_series_scaled = scaler.fit_transform(train_series)\n",
    "    val_series_scaled = scaler.transform(val_series)\n",
    "    list_scaler.append(scaler)\n",
    "    \n",
    "    list_train_series_scaled.append(train_series_scaled)\n",
    "    list_val_series_scaled.append(val_series_scaled)\n",
    "    # 899.29초\n",
    "    \n",
    "    copy_list_train_series_scaled.append(train_series_scaled)\n",
    "    copy_list_val_series_scaled.append(val_series_scaled)\n",
    "    copy_list_train_scaled_past_cov.append(train_past_cov_series)\n",
    "    copy_list_val_scaled_past_cov.append(val_past_cov_series)\n",
    "    \n",
    "    c += 1\n",
    "    if c % 100 == 0:\n",
    "        model.fit(copy_list_train_series_scaled,\n",
    "                past_covariates=copy_list_train_scaled_past_cov,\n",
    "                # future_covariates=list_train_scaled_future_cov\n",
    "                val_series=copy_list_val_series_scaled,\n",
    "                val_past_covariates=copy_list_val_scaled_past_cov,\n",
    "                # val_future_covariates=list_val_scaled_future_cov\n",
    "                )\n",
    "        \n",
    "        copy_list_train_series_scaled = []\n",
    "        copy_list_train_scaled_past_cov = []\n",
    "        copy_list_val_series_scaled = []\n",
    "        copy_list_val_scaled_past_cov = []\n",
    "\n",
    "print(time.time() - start_time)\n",
    "# Reset warning filter\n",
    "warnings.filterwarnings('default')"
   ]
  },
  {
   "cell_type": "code",
   "execution_count": 9,
   "id": "525c5c9b",
   "metadata": {},
   "outputs": [
    {
     "name": "stderr",
     "output_type": "stream",
     "text": [
      "GPU available: True (cuda), used: True\n",
      "TPU available: False, using: 0 TPU cores\n",
      "IPU available: False, using: 0 IPUs\n",
      "HPU available: False, using: 0 HPUs\n",
      "LOCAL_RANK: 0 - CUDA_VISIBLE_DEVICES: [0]\n",
      "\n",
      "  | Name          | Type             | Params\n",
      "---------------------------------------------------\n",
      "0 | criterion     | MSELoss          | 0     \n",
      "1 | train_metrics | MetricCollection | 0     \n",
      "2 | val_metrics   | MetricCollection | 0     \n",
      "3 | layer         | Linear           | 1.2 K \n",
      "---------------------------------------------------\n",
      "1.2 K     Trainable params\n",
      "0         Non-trainable params\n",
      "1.2 K     Total params\n",
      "0.005     Total estimated model params size (MB)\n",
      "/home/khg/miniconda3/envs/stock/lib/python3.10/site-packages/torch/utils/tensorboard/__init__.py:4: DeprecationWarning: distutils Version classes are deprecated. Use packaging.version instead.\n",
      "  if not hasattr(tensorboard, \"__version__\") or LooseVersion(\n",
      "/home/khg/miniconda3/envs/stock/lib/python3.10/site-packages/torch/utils/tensorboard/__init__.py:6: DeprecationWarning: distutils Version classes are deprecated. Use packaging.version instead.\n",
      "  ) < LooseVersion(\"1.15\"):\n"
     ]
    },
    {
     "data": {
      "application/vnd.jupyter.widget-view+json": {
       "model_id": "",
       "version_major": 2,
       "version_minor": 0
      },
      "text/plain": [
       "Sanity Checking: 0it [00:00, ?it/s]"
      ]
     },
     "metadata": {},
     "output_type": "display_data"
    },
    {
     "data": {
      "application/vnd.jupyter.widget-view+json": {
       "model_id": "ec8e51c5252f4582893ba809f041c95d",
       "version_major": 2,
       "version_minor": 0
      },
      "text/plain": [
       "Training: 0it [00:00, ?it/s]"
      ]
     },
     "metadata": {},
     "output_type": "display_data"
    },
    {
     "data": {
      "application/vnd.jupyter.widget-view+json": {
       "model_id": "",
       "version_major": 2,
       "version_minor": 0
      },
      "text/plain": [
       "Validation: 0it [00:00, ?it/s]"
      ]
     },
     "metadata": {},
     "output_type": "display_data"
    },
    {
     "data": {
      "application/vnd.jupyter.widget-view+json": {
       "model_id": "",
       "version_major": 2,
       "version_minor": 0
      },
      "text/plain": [
       "Validation: 0it [00:00, ?it/s]"
      ]
     },
     "metadata": {},
     "output_type": "display_data"
    },
    {
     "data": {
      "application/vnd.jupyter.widget-view+json": {
       "model_id": "",
       "version_major": 2,
       "version_minor": 0
      },
      "text/plain": [
       "Validation: 0it [00:00, ?it/s]"
      ]
     },
     "metadata": {},
     "output_type": "display_data"
    },
    {
     "data": {
      "application/vnd.jupyter.widget-view+json": {
       "model_id": "",
       "version_major": 2,
       "version_minor": 0
      },
      "text/plain": [
       "Validation: 0it [00:00, ?it/s]"
      ]
     },
     "metadata": {},
     "output_type": "display_data"
    },
    {
     "data": {
      "application/vnd.jupyter.widget-view+json": {
       "model_id": "",
       "version_major": 2,
       "version_minor": 0
      },
      "text/plain": [
       "Validation: 0it [00:00, ?it/s]"
      ]
     },
     "metadata": {},
     "output_type": "display_data"
    },
    {
     "data": {
      "application/vnd.jupyter.widget-view+json": {
       "model_id": "",
       "version_major": 2,
       "version_minor": 0
      },
      "text/plain": [
       "Validation: 0it [00:00, ?it/s]"
      ]
     },
     "metadata": {},
     "output_type": "display_data"
    },
    {
     "data": {
      "text/plain": [
       "<darts.models.forecasting.nlinear.NLinearModel at 0x7f44b34e6bc0>"
      ]
     },
     "execution_count": 9,
     "metadata": {},
     "output_type": "execute_result"
    }
   ],
   "source": [
    "# model.fit(list_train_series_scaled,\n",
    "#             past_covariates=list_train_scaled_past_cov,\n",
    "#             # future_covariates=list_train_scaled_future_cov\n",
    "#             val_series=list_val_series_scaled,\n",
    "#             val_past_covariates=list_val_scaled_past_cov,\n",
    "#             # val_future_covariates=list_val_scaled_future_cov\n",
    "#             )"
   ]
  },
  {
   "cell_type": "code",
   "execution_count": 7,
   "id": "d83983f7",
   "metadata": {},
   "outputs": [],
   "source": [
    "# write_pickle('pickle/list_stock_timeseries', list_stock_timeseries)\n",
    "# write_pickle('pickle/list_train_series_scaled', list_train_series_scaled)\n",
    "# write_pickle('pickle/list_val_series_scaled', list_val_series_scaled)\n",
    "# write_pickle('pickle/list_scaler', list_scaler)\n",
    "# write_pickle('pickle/list_scaled_past_cov', list_scaled_past_cov)\n",
    "# write_pickle('pickle/list_train_scaled_past_cov', list_train_scaled_past_cov)\n",
    "# write_pickle('pickle/list_val_scaled_past_cov', list_val_scaled_past_cov)"
   ]
  },
  {
   "cell_type": "code",
   "execution_count": 8,
   "id": "988e0066",
   "metadata": {},
   "outputs": [],
   "source": [
    "# list_stock_timeseries = read_pickle('pickle/list_stock_timeseries')\n",
    "# list_train_series_scaled = read_pickle('pickle/list_train_series_scaled')\n",
    "# list_val_series_scaled = read_pickle('pickle/list_val_series_scaled')\n",
    "# list_scaler = read_pickle('pickle/list_scaler')\n",
    "# list_scaled_past_cov = read_pickle('pickle/list_scaled_past_cov')\n",
    "# list_train_scaled_past_cov = read_pickle('pickle/list_train_scaled_past_cov')\n",
    "# list_val_scaled_past_cov = read_pickle('pickle/list_val_scaled_past_cov')"
   ]
  },
  {
   "cell_type": "code",
   "execution_count": 10,
   "id": "a27d3525",
   "metadata": {},
   "outputs": [],
   "source": [
    "model_path = \"model/all_past2.pkl\"\n",
    "if not os.path.exists('model'):\n",
    "    os.mkdir('model')\n",
    "model.save(model_path)\n",
    "model_loaded = NLinearModel.load(model_path)"
   ]
  },
  {
   "cell_type": "code",
   "execution_count": 21,
   "id": "696dc88e",
   "metadata": {},
   "outputs": [
    {
     "name": "stderr",
     "output_type": "stream",
     "text": [
      "GPU available: True (cuda), used: True\n",
      "TPU available: False, using: 0 TPU cores\n",
      "IPU available: False, using: 0 IPUs\n",
      "HPU available: False, using: 0 HPUs\n",
      "LOCAL_RANK: 0 - CUDA_VISIBLE_DEVICES: [0]\n"
     ]
    },
    {
     "data": {
      "application/vnd.jupyter.widget-view+json": {
       "model_id": "bc3edf0c84cd4ca6a6efd1cb9c02fabd",
       "version_major": 2,
       "version_minor": 0
      },
      "text/plain": [
       "Predicting: 0it [00:00, ?it/s]"
      ]
     },
     "metadata": {},
     "output_type": "display_data"
    },
    {
     "data": {
      "text/plain": [
       "<matplotlib.legend.Legend at 0x7f444cbe3c10>"
      ]
     },
     "execution_count": 21,
     "metadata": {},
     "output_type": "execute_result"
    },
    {
     "data": {
      "image/png": "[encoded data removed]",
      "text/plain": [
       "<Figure size 640x480 with 1 Axes>"
      ]
     },
     "metadata": {},
     "output_type": "display_data"
    }
   ],
   "source": [
    "i = 2\n",
    "predicted_series_scaled = model.predict(n=len(list_val_series_scaled[i])+5,\n",
    "                                        series=list_train_series_scaled[i],\n",
    "                                        past_covariates=list_scaled_past_cov[i],\n",
    "                                        # future_covariates=list_scaled_future_cov[i],\n",
    "                                        )\n",
    "prediction = list_scaler[i].inverse_transform(predicted_series_scaled)\n",
    "list_stock_timeseries[i].plot()\n",
    "prediction.plot(label=\"forecast\")\n",
    "plt.legend()"
   ]
  },
  {
   "cell_type": "code",
   "execution_count": 12,
   "id": "d02c269a",
   "metadata": {},
   "outputs": [
    {
     "name": "stderr",
     "output_type": "stream",
     "text": [
      "GPU available: True (cuda), used: True\n",
      "TPU available: False, using: 0 TPU cores\n",
      "IPU available: False, using: 0 IPUs\n",
      "HPU available: False, using: 0 HPUs\n",
      "LOCAL_RANK: 0 - CUDA_VISIBLE_DEVICES: [0]\n"
     ]
    },
    {
     "data": {
      "application/vnd.jupyter.widget-view+json": {
       "model_id": "b98e48ce1f9b49889dd49056dea2d10c",
       "version_major": 2,
       "version_minor": 0
      },
      "text/plain": [
       "Predicting: 0it [00:00, ?it/s]"
      ]
     },
     "metadata": {},
     "output_type": "display_data"
    },
    {
     "data": {
      "text/plain": [
       "<matplotlib.legend.Legend at 0x7f44b15d0130>"
      ]
     },
     "execution_count": 12,
     "metadata": {},
     "output_type": "execute_result"
    },
    {
     "data": {
      "image/png": "[encoded data removed]",
      "text/plain": [
       "<Figure size 640x480 with 1 Axes>"
      ]
     },
     "metadata": {},
     "output_type": "display_data"
    }
   ],
   "source": [
    "i = 11\n",
    "predicted_series_scaled = model.predict(n=len(list_val_series_scaled[i])+5,\n",
    "                                        series=list_train_series_scaled[i],\n",
    "                                        past_covariates=list_scaled_past_cov[i],\n",
    "                                        # future_covariates=list_scaled_future_cov[i],\n",
    "                                        )\n",
    "prediction = list_scaler[i].inverse_transform(predicted_series_scaled)\n",
    "list_stock_timeseries[i][pd.to_datetime('2023-03-31'):].plot()\n",
    "prediction[pd.to_datetime('2023-03-31'):].plot(label=\"forecast\")\n",
    "plt.legend()"
   ]
  },
  {
   "cell_type": "code",
   "execution_count": null,
   "id": "79298419",
   "metadata": {},
   "outputs": [],
   "source": []
  }
 ],
 "metadata": {
  "kernelspec": {
   "display_name": "Python 3 (ipykernel)",
   "language": "python",
   "name": "python3"
  },
  "language_info": {
   "codemirror_mode": {
    "name": "ipython",
    "version": 3
   },
   "file_extension": ".py",
   "mimetype": "text/x-python",
   "name": "python",
   "nbconvert_exporter": "python",
   "pygments_lexer": "ipython3",
   "version": "3.10.10"
  },
  "vscode": {
   "interpreter": {
    "hash": "2043299c89c8cd0b4d1a6f5cf4529bd58e6a4e0fe3181a25e0d328c821cdc5c5"
   }
  }
 },
 "nbformat": 4,
 "nbformat_minor": 5
}
