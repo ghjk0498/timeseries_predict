{
 "cells": [
  {
   "cell_type": "code",
   "execution_count": 2,
   "id": "f831d6eb",
   "metadata": {},
   "outputs": [],
   "source": [
    "import os\n",
    "\n",
    "import pandas as pd\n",
    "import matplotlib.pyplot as plt\n",
    "import numpy as np\n",
    "from darts import TimeSeries\n",
    "from darts.models import NLinearModel\n",
    "from darts.dataprocessing.transformers import Scaler\n",
    "from darts.metrics import mape\n",
    "from darts.utils.timeseries_generation import datetime_attribute_timeseries\n",
    "from pytorch_lightning.callbacks import EarlyStopping\n",
    "from pytorch_lightning.loggers import TensorBoardLogger\n",
    "from torchmetrics import MetricCollection, MeanAbsoluteError, MeanSquaredError\n",
    "import torch\n",
    "\n",
    "torch.set_float32_matmul_precision('high')"
   ]
  },
  {
   "cell_type": "code",
   "execution_count": 3,
   "id": "9fbf7a25",
   "metadata": {},
   "outputs": [],
   "source": [
    "base_path = 'stock_csv/'\n",
    "\n",
    "column_mapping = {\n",
    "    '일자': 'date',\n",
    "    '종가': 'closing_price',\n",
    "    '대비': 'price_difference',\n",
    "    '등락률': 'fluctuation_rate',\n",
    "    '시가': 'opening_price',\n",
    "    '고가': 'highest_price',\n",
    "    '저가': 'lowest_price',\n",
    "    '거래량': 'trading_volume',\n",
    "    '거래대금': 'trading_value',\n",
    "    '시가총액': 'market_capitalization',\n",
    "    '상장주식수': 'listed_shares',\n",
    "}"
   ]
  },
  {
   "cell_type": "code",
   "execution_count": 4,
   "id": "f5147585",
   "metadata": {},
   "outputs": [
    {
     "data": {
      "text/html": [
       "<div>\n",
       "<style scoped>\n",
       "    .dataframe tbody tr th:only-of-type {\n",
       "        vertical-align: middle;\n",
       "    }\n",
       "\n",
       "    .dataframe tbody tr th {\n",
       "        vertical-align: top;\n",
       "    }\n",
       "\n",
       "    .dataframe thead th {\n",
       "        text-align: right;\n",
       "    }\n",
       "</style>\n",
       "<table border=\"1\" class=\"dataframe\">\n",
       "  <thead>\n",
       "    <tr style=\"text-align: right;\">\n",
       "      <th></th>\n",
       "      <th>date</th>\n",
       "      <th>closing_price</th>\n",
       "      <th>price_difference</th>\n",
       "      <th>fluctuation_rate</th>\n",
       "      <th>opening_price</th>\n",
       "      <th>highest_price</th>\n",
       "      <th>lowest_price</th>\n",
       "      <th>trading_volume</th>\n",
       "      <th>trading_value</th>\n",
       "      <th>market_capitalization</th>\n",
       "      <th>listed_shares</th>\n",
       "    </tr>\n",
       "  </thead>\n",
       "  <tbody>\n",
       "    <tr>\n",
       "      <th>0</th>\n",
       "      <td>2023/03/31</td>\n",
       "      <td>64000</td>\n",
       "      <td>800</td>\n",
       "      <td>1.27</td>\n",
       "      <td>64000</td>\n",
       "      <td>64000</td>\n",
       "      <td>63700</td>\n",
       "      <td>14094479</td>\n",
       "      <td>900711556583</td>\n",
       "      <td>382066083200000</td>\n",
       "      <td>5969782550</td>\n",
       "    </tr>\n",
       "    <tr>\n",
       "      <th>1</th>\n",
       "      <td>2023/03/30</td>\n",
       "      <td>63200</td>\n",
       "      <td>500</td>\n",
       "      <td>0.80</td>\n",
       "      <td>63700</td>\n",
       "      <td>63700</td>\n",
       "      <td>63100</td>\n",
       "      <td>15684377</td>\n",
       "      <td>993903387442</td>\n",
       "      <td>377290257160000</td>\n",
       "      <td>5969782550</td>\n",
       "    </tr>\n",
       "    <tr>\n",
       "      <th>2</th>\n",
       "      <td>2023/03/29</td>\n",
       "      <td>62700</td>\n",
       "      <td>-200</td>\n",
       "      <td>-0.32</td>\n",
       "      <td>62500</td>\n",
       "      <td>62700</td>\n",
       "      <td>62200</td>\n",
       "      <td>11216008</td>\n",
       "      <td>700455977590</td>\n",
       "      <td>374305365885000</td>\n",
       "      <td>5969782550</td>\n",
       "    </tr>\n",
       "    <tr>\n",
       "      <th>3</th>\n",
       "      <td>2023/03/28</td>\n",
       "      <td>62900</td>\n",
       "      <td>800</td>\n",
       "      <td>1.29</td>\n",
       "      <td>62400</td>\n",
       "      <td>62900</td>\n",
       "      <td>62100</td>\n",
       "      <td>11614118</td>\n",
       "      <td>726295104112</td>\n",
       "      <td>375499322395000</td>\n",
       "      <td>5969782550</td>\n",
       "    </tr>\n",
       "    <tr>\n",
       "      <th>4</th>\n",
       "      <td>2023/03/27</td>\n",
       "      <td>62100</td>\n",
       "      <td>-900</td>\n",
       "      <td>-1.43</td>\n",
       "      <td>62600</td>\n",
       "      <td>62800</td>\n",
       "      <td>62000</td>\n",
       "      <td>11039331</td>\n",
       "      <td>687170094400</td>\n",
       "      <td>370723496355000</td>\n",
       "      <td>5969782550</td>\n",
       "    </tr>\n",
       "  </tbody>\n",
       "</table>\n",
       "</div>"
      ],
      "text/plain": [
       "         date  closing_price  price_difference  fluctuation_rate  \\\n",
       "0  2023/03/31          64000               800              1.27   \n",
       "1  2023/03/30          63200               500              0.80   \n",
       "2  2023/03/29          62700              -200             -0.32   \n",
       "3  2023/03/28          62900               800              1.29   \n",
       "4  2023/03/27          62100              -900             -1.43   \n",
       "\n",
       "   opening_price  highest_price  lowest_price  trading_volume  trading_value  \\\n",
       "0          64000          64000         63700        14094479   900711556583   \n",
       "1          63700          63700         63100        15684377   993903387442   \n",
       "2          62500          62700         62200        11216008   700455977590   \n",
       "3          62400          62900         62100        11614118   726295104112   \n",
       "4          62600          62800         62000        11039331   687170094400   \n",
       "\n",
       "   market_capitalization  listed_shares  \n",
       "0        382066083200000     5969782550  \n",
       "1        377290257160000     5969782550  \n",
       "2        374305365885000     5969782550  \n",
       "3        375499322395000     5969782550  \n",
       "4        370723496355000     5969782550  "
      ]
     },
     "execution_count": 4,
     "metadata": {},
     "output_type": "execute_result"
    }
   ],
   "source": [
    "stock_df = pd.read_excel(os.path.join(base_path, '005930_삼성전자_20000101_20230331.csv')).rename(columns=column_mapping)\n",
    "\n",
    "stock_df.head()"
   ]
  },
  {
   "cell_type": "markdown",
   "id": "75130d86",
   "metadata": {},
   "source": [
    "과거 공변량:\n",
    "<ol>\n",
    "    <li>과거 주가 데이터: 종가, 시가, 고가, 저가 등\n",
    "    <li>거래량: 주식 거래량 데이터\n",
    "    <li>기술적 지표: 이동 평균, RSI (상대 강도 지수), MACD (이동 평균 수렴 발산) 등\n",
    "    <li>기업 재무 데이터: 매출, 이익, 자산, 부채 등\n",
    "    <li>배당: 배당금과 배당 수익률\n",
    "    <li>주가 수익률 (P/E) 등의 가치 지표\n",
    "</ol>\n",
    "<br>\n",
    "미래 공변량:\n",
    "<ol>\n",
    "    <li>경제 성장률: 국내 총생산(GDP) 성장률 등\n",
    "    <li>인플레이션: 소비자 물가지수(CPI) 등\n",
    "    <li>기준 금리: 중앙은행의 기준 금리\n",
    "    <li>실업률: 국가의 실업률 데이터\n",
    "    <li>환율: 외환 시장의 환율 정보\n",
    "    <li>경제 정책: 정부의 경제 정책이나 중앙은행의 통화 정책\n",
    "</ol>"
   ]
  },
  {
   "cell_type": "code",
   "execution_count": 5,
   "id": "2197d99b",
   "metadata": {},
   "outputs": [],
   "source": [
    "past_cov_list = ['price_difference', 'fluctuation_rate', 'opening_price', 'highest_price', 'lowest_price', 'trading_volume',\n",
    "                'trading_value', 'market_capitalization', 'listed_shares']\n",
    "# past_cov_list = []\n",
    "\n",
    "def getScaledPastCov(timeseries):\n",
    "    past_cov_timeseries = timeseries.copy()\n",
    "    cov_year = datetime_attribute_timeseries(past_cov_timeseries, attribute='year')\n",
    "    cov_month = datetime_attribute_timeseries(past_cov_timeseries, attribute='month')\n",
    "    past_cov = cov_year.stack(cov_month)\n",
    "    for col in past_cov_list:\n",
    "        past_cov = past_cov.stack(past_cov_timeseries[col])\n",
    "    return Scaler().fit_transform(past_cov)\n",
    "\n",
    "def getFutureCov(timeseries):\n",
    "    pass"
   ]
  },
  {
   "cell_type": "code",
   "execution_count": 6,
   "id": "eef431e4",
   "metadata": {},
   "outputs": [],
   "source": [
    "def write_pickle(file_path, data):\n",
    "    with open(file_path, \"wb\") as f:\n",
    "        pickle.dump(df, f)\n",
    "\n",
    "def read_pickle(file_path):\n",
    "    with open(file_path, \"rb\") as f:\n",
    "        result = pickle.load(f)\n",
    "    return result"
   ]
  },
  {
   "cell_type": "code",
   "execution_count": 7,
   "id": "968e75ff",
   "metadata": {},
   "outputs": [
    {
     "name": "stdout",
     "output_type": "stream",
     "text": [
      "0 000660_SK하이닉스_20000101_20230331.csv\n",
      "1 005930_삼성전자_20000101_20230331.csv\n",
      "2 007070_GS리테일_20000101_20230331.csv\n",
      "3 015760_한국전력_20000101_20230331.csv\n",
      "4 027410_BGF_20000101_20230331.csv\n",
      "5 034730_SK_20000101_20230331.csv\n",
      "6 047810_한국항공우주_20000101_20230331.csv\n",
      "7 055550_신한지주_20000101_20230331.csv\n",
      "8 078930_GS_20000101_20230331.csv\n",
      "9 086790_하나금융지주_20000101_20230331.csv\n",
      "10 088980_맥쿼리인프라_20000101_20230331.csv\n",
      "11 105560_KB금융_20000101_20230331.csv\n",
      "12 282330_BGF리테일_20000101_20230331.csv\n",
      "13 316140_우리금융지주_20000101_20230331.csv\n",
      "12.03958511352539\n"
     ]
    }
   ],
   "source": [
    "\"\"\"\n",
    "    아래 코드의 속도 개선 중\n",
    "\"\"\"\n",
    "import time\n",
    "import warnings\n",
    "\n",
    "# Ignore warnings\n",
    "warnings.filterwarnings('ignore')\n",
    "start_time = time.time()\n",
    "\n",
    "\n",
    "start_date = '2015-01-01'\n",
    "end_date = '2023-03-31'\n",
    "\n",
    "interpolate_list = ['closing_price'] + past_cov_list\n",
    "\n",
    "list_stock_timeseries = []\n",
    "\n",
    "list_train_series_scaled = []\n",
    "list_val_series_scaled = []\n",
    "list_scaler = []\n",
    "\n",
    "list_scaled_past_cov = []\n",
    "list_train_scaled_past_cov = []\n",
    "list_val_scaled_past_cov = []\n",
    "\n",
    "list_scaled_future_cov = []\n",
    "list_train_scaled_future_cov = []\n",
    "list_val_scaled_future_cov = []\n",
    "\n",
    "for i, file_name in enumerate(os.listdir(base_path)):\n",
    "    print(i, file_name)\n",
    "    df = pd.read_excel(base_path + file_name).rename(columns=column_mapping)\n",
    "    df['date'] = pd.to_datetime(df['date'])\n",
    "    df.set_index('date', inplace=True)\n",
    "    if len(df.loc[:start_date]) == 0: # start_date 이전 날짜 데이터가 없는 경우는 무시. 따라서 start_date 이후 상장된 주식은 훈련 X\n",
    "        continue\n",
    "    df = df.loc[start_date:end_date]\n",
    "    # 9.68초\n",
    "    \n",
    "    # Date interpolate\n",
    "    stock_timeseries_df_interpolated = df.copy()\n",
    "    stock_timeseries_df_interpolated = stock_timeseries_df_interpolated.asfreq('B')\n",
    "    for col in interpolate_list:\n",
    "        stock_timeseries_df_interpolated[col] = stock_timeseries_df_interpolated[col].interpolate(method='linear')\n",
    "    df = stock_timeseries_df_interpolated\n",
    "    # 25.73초\n",
    "    \n",
    "    # 전처리 결과를 저장 -> 마지막 줄에서 pickle 저장하는 것이 좋아보임\n",
    "#     df.to_excel('interpolated_' + base_path + file_name)\n",
    "    \n",
    "    timeseries = TimeSeries.from_dataframe(df)\n",
    "    # 40.93초\n",
    "    \n",
    "    \n",
    "    # Darts TimeSeries 변환 및 날짜 필터링\n",
    "    stock_timeseries = timeseries['closing_price']\n",
    "    list_stock_timeseries.append(stock_timeseries)\n",
    "\n",
    "    # Past covariant 및 날짜 필터링\n",
    "    scaled_past_cov_timeseries = getScaledPastCov(timeseries)\n",
    "    list_scaled_past_cov.append(scaled_past_cov_timeseries)\n",
    "    # 159.89초\n",
    "    \n",
    "    # Split train/validation set\n",
    "    train_percentage = 0.8\n",
    "    split_index = int(train_percentage * len(stock_timeseries))\n",
    "    \n",
    "    train_series, val_series = stock_timeseries[:split_index], stock_timeseries[split_index:]\n",
    "    train_past_cov_series, val_past_cov_series = scaled_past_cov_timeseries[:split_index], scaled_past_cov_timeseries[split_index:]\n",
    "    \n",
    "    list_train_scaled_past_cov.append(train_past_cov_series)\n",
    "    list_val_scaled_past_cov.append(val_past_cov_series)\n",
    "    \n",
    "    # Scale\n",
    "    scaler = Scaler()\n",
    "    train_series_scaled = scaler.fit_transform(train_series)\n",
    "    val_series_scaled = scaler.transform(val_series)\n",
    "    list_scaler.append(scaler)\n",
    "    \n",
    "    list_train_series_scaled.append(train_series_scaled)\n",
    "    list_val_series_scaled.append(val_series_scaled)\n",
    "\n",
    "print(time.time() - start_time)\n",
    "# Reset warning filter\n",
    "warnings.filterwarnings('default')"
   ]
  },
  {
   "cell_type": "code",
   "execution_count": 8,
   "id": "284a9109",
   "metadata": {},
   "outputs": [
    {
     "name": "stdout",
     "output_type": "stream",
     "text": [
      "0 000660_SK하이닉스_20000101_20230331.csv\n"
     ]
    },
    {
     "name": "stderr",
     "output_type": "stream",
     "text": [
      "c:\\Users\\Admin\\anaconda3\\lib\\site-packages\\openpyxl\\styles\\stylesheet.py:226: UserWarning: Workbook contains no default style, apply openpyxl's default\n",
      "  warn(\"Workbook contains no default style, apply openpyxl's default\")\n",
      "c:\\Users\\Admin\\anaconda3\\lib\\site-packages\\xarray\\core\\pycompat.py:22: DeprecationWarning: distutils Version classes are deprecated. Use packaging.version instead.\n",
      "  duck_array_version = LooseVersion(duck_array_module.__version__)\n"
     ]
    },
    {
     "name": "stdout",
     "output_type": "stream",
     "text": [
      "1 005930_삼성전자_20000101_20230331.csv\n"
     ]
    },
    {
     "name": "stderr",
     "output_type": "stream",
     "text": [
      "c:\\Users\\Admin\\anaconda3\\lib\\site-packages\\openpyxl\\styles\\stylesheet.py:226: UserWarning: Workbook contains no default style, apply openpyxl's default\n",
      "  warn(\"Workbook contains no default style, apply openpyxl's default\")\n",
      "Exception ignored in: <function ZipFile.__del__ at 0x000001E07A974F70>\n",
      "Traceback (most recent call last):\n",
      "  File \"c:\\Users\\Admin\\anaconda3\\lib\\zipfile.py\", line 1816, in __del__\n",
      "    self.close()\n",
      "KeyboardInterrupt: \n",
      "c:\\Users\\Admin\\anaconda3\\lib\\site-packages\\xarray\\core\\pycompat.py:22: DeprecationWarning: distutils Version classes are deprecated. Use packaging.version instead.\n",
      "  duck_array_version = LooseVersion(duck_array_module.__version__)\n"
     ]
    },
    {
     "name": "stdout",
     "output_type": "stream",
     "text": [
      "2 007070_GS리테일_20000101_20230331.csv\n"
     ]
    },
    {
     "name": "stderr",
     "output_type": "stream",
     "text": [
      "c:\\Users\\Admin\\anaconda3\\lib\\site-packages\\openpyxl\\styles\\stylesheet.py:226: UserWarning: Workbook contains no default style, apply openpyxl's default\n",
      "  warn(\"Workbook contains no default style, apply openpyxl's default\")\n",
      "c:\\Users\\Admin\\anaconda3\\lib\\site-packages\\xarray\\core\\pycompat.py:22: DeprecationWarning: distutils Version classes are deprecated. Use packaging.version instead.\n",
      "  duck_array_version = LooseVersion(duck_array_module.__version__)\n"
     ]
    },
    {
     "name": "stdout",
     "output_type": "stream",
     "text": [
      "3 015760_한국전력_20000101_20230331.csv\n"
     ]
    },
    {
     "name": "stderr",
     "output_type": "stream",
     "text": [
      "c:\\Users\\Admin\\anaconda3\\lib\\site-packages\\openpyxl\\styles\\stylesheet.py:226: UserWarning: Workbook contains no default style, apply openpyxl's default\n",
      "  warn(\"Workbook contains no default style, apply openpyxl's default\")\n",
      "c:\\Users\\Admin\\anaconda3\\lib\\site-packages\\xarray\\core\\pycompat.py:22: DeprecationWarning: distutils Version classes are deprecated. Use packaging.version instead.\n",
      "  duck_array_version = LooseVersion(duck_array_module.__version__)\n"
     ]
    },
    {
     "name": "stdout",
     "output_type": "stream",
     "text": [
      "4 027410_BGF_20000101_20230331.csv\n"
     ]
    },
    {
     "name": "stderr",
     "output_type": "stream",
     "text": [
      "c:\\Users\\Admin\\anaconda3\\lib\\site-packages\\openpyxl\\styles\\stylesheet.py:226: UserWarning: Workbook contains no default style, apply openpyxl's default\n",
      "  warn(\"Workbook contains no default style, apply openpyxl's default\")\n",
      "c:\\Users\\Admin\\anaconda3\\lib\\site-packages\\xarray\\core\\pycompat.py:22: DeprecationWarning: distutils Version classes are deprecated. Use packaging.version instead.\n",
      "  duck_array_version = LooseVersion(duck_array_module.__version__)\n"
     ]
    },
    {
     "name": "stdout",
     "output_type": "stream",
     "text": [
      "5 034730_SK_20000101_20230331.csv\n"
     ]
    },
    {
     "name": "stderr",
     "output_type": "stream",
     "text": [
      "c:\\Users\\Admin\\anaconda3\\lib\\site-packages\\openpyxl\\styles\\stylesheet.py:226: UserWarning: Workbook contains no default style, apply openpyxl's default\n",
      "  warn(\"Workbook contains no default style, apply openpyxl's default\")\n",
      "c:\\Users\\Admin\\anaconda3\\lib\\site-packages\\xarray\\core\\pycompat.py:22: DeprecationWarning: distutils Version classes are deprecated. Use packaging.version instead.\n",
      "  duck_array_version = LooseVersion(duck_array_module.__version__)\n"
     ]
    },
    {
     "name": "stdout",
     "output_type": "stream",
     "text": [
      "6 047810_한국항공우주_20000101_20230331.csv\n"
     ]
    },
    {
     "name": "stderr",
     "output_type": "stream",
     "text": [
      "c:\\Users\\Admin\\anaconda3\\lib\\site-packages\\openpyxl\\styles\\stylesheet.py:226: UserWarning: Workbook contains no default style, apply openpyxl's default\n",
      "  warn(\"Workbook contains no default style, apply openpyxl's default\")\n",
      "c:\\Users\\Admin\\anaconda3\\lib\\site-packages\\xarray\\core\\pycompat.py:22: DeprecationWarning: distutils Version classes are deprecated. Use packaging.version instead.\n",
      "  duck_array_version = LooseVersion(duck_array_module.__version__)\n"
     ]
    },
    {
     "name": "stdout",
     "output_type": "stream",
     "text": [
      "7 055550_신한지주_20000101_20230331.csv\n"
     ]
    },
    {
     "name": "stderr",
     "output_type": "stream",
     "text": [
      "c:\\Users\\Admin\\anaconda3\\lib\\site-packages\\openpyxl\\styles\\stylesheet.py:226: UserWarning: Workbook contains no default style, apply openpyxl's default\n",
      "  warn(\"Workbook contains no default style, apply openpyxl's default\")\n",
      "c:\\Users\\Admin\\anaconda3\\lib\\site-packages\\xarray\\core\\pycompat.py:22: DeprecationWarning: distutils Version classes are deprecated. Use packaging.version instead.\n",
      "  duck_array_version = LooseVersion(duck_array_module.__version__)\n"
     ]
    },
    {
     "name": "stdout",
     "output_type": "stream",
     "text": [
      "8 078930_GS_20000101_20230331.csv\n"
     ]
    },
    {
     "name": "stderr",
     "output_type": "stream",
     "text": [
      "c:\\Users\\Admin\\anaconda3\\lib\\site-packages\\openpyxl\\styles\\stylesheet.py:226: UserWarning: Workbook contains no default style, apply openpyxl's default\n",
      "  warn(\"Workbook contains no default style, apply openpyxl's default\")\n",
      "c:\\Users\\Admin\\anaconda3\\lib\\site-packages\\xarray\\core\\pycompat.py:22: DeprecationWarning: distutils Version classes are deprecated. Use packaging.version instead.\n",
      "  duck_array_version = LooseVersion(duck_array_module.__version__)\n"
     ]
    },
    {
     "name": "stdout",
     "output_type": "stream",
     "text": [
      "9 086790_하나금융지주_20000101_20230331.csv\n"
     ]
    },
    {
     "name": "stderr",
     "output_type": "stream",
     "text": [
      "c:\\Users\\Admin\\anaconda3\\lib\\site-packages\\openpyxl\\styles\\stylesheet.py:226: UserWarning: Workbook contains no default style, apply openpyxl's default\n",
      "  warn(\"Workbook contains no default style, apply openpyxl's default\")\n",
      "c:\\Users\\Admin\\anaconda3\\lib\\site-packages\\xarray\\core\\pycompat.py:22: DeprecationWarning: distutils Version classes are deprecated. Use packaging.version instead.\n",
      "  duck_array_version = LooseVersion(duck_array_module.__version__)\n"
     ]
    },
    {
     "name": "stdout",
     "output_type": "stream",
     "text": [
      "10 088980_맥쿼리인프라_20000101_20230331.csv\n"
     ]
    },
    {
     "name": "stderr",
     "output_type": "stream",
     "text": [
      "c:\\Users\\Admin\\anaconda3\\lib\\site-packages\\openpyxl\\styles\\stylesheet.py:226: UserWarning: Workbook contains no default style, apply openpyxl's default\n",
      "  warn(\"Workbook contains no default style, apply openpyxl's default\")\n",
      "c:\\Users\\Admin\\anaconda3\\lib\\site-packages\\xarray\\core\\pycompat.py:22: DeprecationWarning: distutils Version classes are deprecated. Use packaging.version instead.\n",
      "  duck_array_version = LooseVersion(duck_array_module.__version__)\n"
     ]
    }
   ],
   "source": [
    "interpolate_list = ['closing_price'] + past_cov_list\n",
    "\n",
    "# 필터링할 날짜 범위 설정\n",
    "start_date = pd.to_datetime('2015-01-01')\n",
    "end_date = pd.to_datetime('2023-03-31')\n",
    "\n",
    "list_stock_timeseries = []\n",
    "\n",
    "list_train_series_scaled = []\n",
    "list_val_series_scaled = []\n",
    "list_scaler = []\n",
    "\n",
    "list_scaled_past_cov = []\n",
    "list_train_scaled_past_cov = []\n",
    "list_val_scaled_past_cov = []\n",
    "\n",
    "list_scaled_future_cov = []\n",
    "list_train_scaled_future_cov = []\n",
    "list_val_scaled_future_cov = []\n",
    "\n",
    "for i, file_name in enumerate(os.listdir(base_path)):\n",
    "    print(i, file_name)\n",
    "    df = pd.read_excel(base_path + file_name).rename(columns=column_mapping)\n",
    "    if len(df) < 100:\n",
    "        continue\n",
    "    df['date'] = pd.to_datetime(df['date'])\n",
    "    \n",
    "    # Date interpolate\n",
    "    stock_timeseries_df_interpolated = df.copy()\n",
    "    stock_timeseries_df_interpolated.set_index('date', inplace=True)\n",
    "    stock_timeseries_df_interpolated = stock_timeseries_df_interpolated.asfreq('B')\n",
    "    for col in interpolate_list:\n",
    "        stock_timeseries_df_interpolated[col] = stock_timeseries_df_interpolated[col].interpolate(method='linear')\n",
    "    stock_timeseries_df_interpolated.reset_index(inplace=True)\n",
    "    df = stock_timeseries_df_interpolated\n",
    "    \n",
    "    # Interpolate 확인\n",
    "#     print(df.isna().sum())\n",
    "\n",
    "    timeseries = TimeSeries.from_dataframe(df, time_col='date', freq='B')\n",
    "    \n",
    "    \n",
    "    # Darts TimeSeries 변환 및 날짜 필터링\n",
    "    stock_timeseries = timeseries['closing_price']\n",
    "    stock_timeseries = stock_timeseries[start_date:end_date]\n",
    "    list_stock_timeseries.append(stock_timeseries)\n",
    "\n",
    "    # Past covariant 및 날짜 필터링\n",
    "    scaled_past_cov_timeseries = getScaledPastCov(timeseries)\n",
    "    scaled_past_cov_timeseries = scaled_past_cov_timeseries[start_date:end_date]\n",
    "    list_scaled_past_cov.append(scaled_past_cov_timeseries)\n",
    "    \n",
    "    # Split train/validation set\n",
    "    train_percentage = 0.8\n",
    "    split_index = int(train_percentage * len(stock_timeseries))\n",
    "    \n",
    "    train_series, val_series = stock_timeseries[:split_index], stock_timeseries[split_index:]\n",
    "    train_past_cov_series, val_past_cov_series = scaled_past_cov_timeseries[:split_index], scaled_past_cov_timeseries[split_index:]\n",
    "    \n",
    "    list_train_scaled_past_cov.append(train_past_cov_series)\n",
    "    list_val_scaled_past_cov.append(val_past_cov_series)\n",
    "    \n",
    "    # Scale\n",
    "    scaler = Scaler()\n",
    "    train_series_scaled = scaler.fit_transform(train_series)\n",
    "    val_series_scaled = scaler.transform(val_series)\n",
    "    list_scaler.append(scaler)\n",
    "    \n",
    "    list_train_series_scaled.append(train_series_scaled)\n",
    "    list_val_series_scaled.append(val_series_scaled)\n",
    "    \n",
    "#     if i % 50 == 49:\n",
    "#         break"
   ]
  },
  {
   "cell_type": "code",
   "execution_count": 26,
   "id": "525c5c9b",
   "metadata": {},
   "outputs": [
    {
     "name": "stderr",
     "output_type": "stream",
     "text": [
      "GPU available: False, used: False\n",
      "TPU available: False, using: 0 TPU cores\n",
      "IPU available: False, using: 0 IPUs\n",
      "HPU available: False, using: 0 HPUs\n",
      "\n",
      "  | Name          | Type             | Params\n",
      "---------------------------------------------------\n",
      "0 | criterion     | MSELoss          | 0     \n",
      "1 | train_metrics | MetricCollection | 0     \n",
      "2 | val_metrics   | MetricCollection | 0     \n",
      "3 | layer         | Linear           | 1.2 K \n",
      "---------------------------------------------------\n",
      "1.2 K     Trainable params\n",
      "0         Non-trainable params\n",
      "1.2 K     Total params\n",
      "0.005     Total estimated model params size (MB)\n"
     ]
    },
    {
     "data": {
      "application/vnd.jupyter.widget-view+json": {
       "model_id": "ccfa87b35d1649b9b156d37868e78177",
       "version_major": 2,
       "version_minor": 0
      },
      "text/plain": [
       "Sanity Checking: 0it [00:00, ?it/s]"
      ]
     },
     "metadata": {},
     "output_type": "display_data"
    },
    {
     "data": {
      "application/vnd.jupyter.widget-view+json": {
       "model_id": "7497f552d51c468ba090d83561e9e366",
       "version_major": 2,
       "version_minor": 0
      },
      "text/plain": [
       "Training: 0it [00:00, ?it/s]"
      ]
     },
     "metadata": {},
     "output_type": "display_data"
    },
    {
     "data": {
      "application/vnd.jupyter.widget-view+json": {
       "model_id": "2e33356344af43f7a911af9402cda55a",
       "version_major": 2,
       "version_minor": 0
      },
      "text/plain": [
       "Validation: 0it [00:00, ?it/s]"
      ]
     },
     "metadata": {},
     "output_type": "display_data"
    },
    {
     "data": {
      "application/vnd.jupyter.widget-view+json": {
       "model_id": "4fd7008c462c44bb879871ce99f5ff78",
       "version_major": 2,
       "version_minor": 0
      },
      "text/plain": [
       "Validation: 0it [00:00, ?it/s]"
      ]
     },
     "metadata": {},
     "output_type": "display_data"
    },
    {
     "data": {
      "application/vnd.jupyter.widget-view+json": {
       "model_id": "d812a61434644a118666a78115f7dc02",
       "version_major": 2,
       "version_minor": 0
      },
      "text/plain": [
       "Validation: 0it [00:00, ?it/s]"
      ]
     },
     "metadata": {},
     "output_type": "display_data"
    },
    {
     "data": {
      "application/vnd.jupyter.widget-view+json": {
       "model_id": "3bd5f756d0634faabdf0c4cccea4fc8c",
       "version_major": 2,
       "version_minor": 0
      },
      "text/plain": [
       "Validation: 0it [00:00, ?it/s]"
      ]
     },
     "metadata": {},
     "output_type": "display_data"
    },
    {
     "data": {
      "application/vnd.jupyter.widget-view+json": {
       "model_id": "1ccdf66de0694a6f8929791fc0cb3b22",
       "version_major": 2,
       "version_minor": 0
      },
      "text/plain": [
       "Validation: 0it [00:00, ?it/s]"
      ]
     },
     "metadata": {},
     "output_type": "display_data"
    },
    {
     "data": {
      "application/vnd.jupyter.widget-view+json": {
       "model_id": "7f1fa8be1c78449aada2792bdc420993",
       "version_major": 2,
       "version_minor": 0
      },
      "text/plain": [
       "Validation: 0it [00:00, ?it/s]"
      ]
     },
     "metadata": {},
     "output_type": "display_data"
    },
    {
     "data": {
      "text/plain": [
       "<darts.models.forecasting.nlinear.NLinearModel at 0x247d8d4a790>"
      ]
     },
     "execution_count": 26,
     "metadata": {},
     "output_type": "execute_result"
    }
   ],
   "source": [
    "logger = TensorBoardLogger('logs', name='stock')\n",
    "\n",
    "# A TorchMetric or val_loss can be used as the monitor\n",
    "torch_metrics = MetricCollection([MeanAbsoluteError(), MeanSquaredError()])\n",
    "\n",
    "# Early stop callback\n",
    "my_stopper = EarlyStopping(\n",
    "    monitor=\"val_MeanAbsoluteError\",  # \"val_loss\",\n",
    "    patience=5,\n",
    "    min_delta=0.05,\n",
    "    mode='min',\n",
    ")\n",
    "pl_trainer_kwargs = {\"callbacks\": [my_stopper], \"logger\": logger}\n",
    "\n",
    "model = NLinearModel(input_chunk_length=20, output_chunk_length=5, n_epochs=10, random_state=42,\n",
    "                        torch_metrics=torch_metrics,\n",
    "                        pl_trainer_kwargs=pl_trainer_kwargs)\n",
    "model.fit(list_train_series_scaled,\n",
    "            past_covariates=list_train_scaled_past_cov,\n",
    "            # future_covariates=list_train_scaled_future_cov\n",
    "            val_series=list_val_series_scaled,\n",
    "            val_past_covariates=list_val_scaled_past_cov,\n",
    "            # val_future_covariates=list_val_scaled_future_cov\n",
    "            )"
   ]
  },
  {
   "cell_type": "code",
   "execution_count": 3,
   "id": "a27d3525",
   "metadata": {},
   "outputs": [],
   "source": [
    "model_path = \"model/all_past.pkl\"\n",
    "if not os.path.exists('model'):\n",
    "    os.mkdir('model')\n",
    "model.save(model_path)\n",
    "model_loaded = NLinearModel.load(model_path)"
   ]
  },
  {
   "cell_type": "code",
   "execution_count": 4,
   "id": "696dc88e",
   "metadata": {},
   "outputs": [
    {
     "ename": "NameError",
     "evalue": "name 'model' is not defined",
     "output_type": "error",
     "traceback": [
      "\u001b[1;31m---------------------------------------------------------------------------\u001b[0m",
      "\u001b[1;31mNameError\u001b[0m                                 Traceback (most recent call last)",
      "\u001b[1;32m~\\AppData\\Local\\Temp\\ipykernel_7720\\3291322045.py\u001b[0m in \u001b[0;36m<module>\u001b[1;34m\u001b[0m\n\u001b[0;32m      1\u001b[0m \u001b[0mi\u001b[0m \u001b[1;33m=\u001b[0m \u001b[1;36m0\u001b[0m\u001b[1;33m\u001b[0m\u001b[1;33m\u001b[0m\u001b[0m\n\u001b[1;32m----> 2\u001b[1;33m predicted_series_scaled = model.predict(n=len(list_val_series_scaled[i])+5,\n\u001b[0m\u001b[0;32m      3\u001b[0m                                         \u001b[0mseries\u001b[0m\u001b[1;33m=\u001b[0m\u001b[0mlist_train_series_scaled\u001b[0m\u001b[1;33m[\u001b[0m\u001b[0mi\u001b[0m\u001b[1;33m]\u001b[0m\u001b[1;33m,\u001b[0m\u001b[1;33m\u001b[0m\u001b[1;33m\u001b[0m\u001b[0m\n\u001b[0;32m      4\u001b[0m                                         \u001b[0mpast_covariates\u001b[0m\u001b[1;33m=\u001b[0m\u001b[0mlist_scaled_past_cov\u001b[0m\u001b[1;33m[\u001b[0m\u001b[0mi\u001b[0m\u001b[1;33m]\u001b[0m\u001b[1;33m,\u001b[0m\u001b[1;33m\u001b[0m\u001b[1;33m\u001b[0m\u001b[0m\n\u001b[0;32m      5\u001b[0m                                         \u001b[1;31m# future_covariates=list_scaled_future_cov[i],\u001b[0m\u001b[1;33m\u001b[0m\u001b[1;33m\u001b[0m\u001b[0m\n",
      "\u001b[1;31mNameError\u001b[0m: name 'model' is not defined"
     ]
    }
   ],
   "source": [
    "i = 0\n",
    "predicted_series_scaled = model.predict(n=len(list_val_series_scaled[i])+5,\n",
    "                                        series=list_train_series_scaled[i],\n",
    "                                        past_covariates=list_scaled_past_cov[i],\n",
    "                                        # future_covariates=list_scaled_future_cov[i],\n",
    "                                        )\n",
    "prediction = list_scaler[i].inverse_transform(predicted_series_scaled)\n",
    "list_stock_timeseries[i].plot()\n",
    "prediction.plot(label=\"forecast\")\n",
    "plt.legend()"
   ]
  },
  {
   "cell_type": "code",
   "execution_count": 29,
   "id": "d02c269a",
   "metadata": {},
   "outputs": [
    {
     "name": "stderr",
     "output_type": "stream",
     "text": [
      "GPU available: False, used: False\n",
      "TPU available: False, using: 0 TPU cores\n",
      "IPU available: False, using: 0 IPUs\n",
      "HPU available: False, using: 0 HPUs\n"
     ]
    },
    {
     "data": {
      "application/vnd.jupyter.widget-view+json": {
       "model_id": "dde5c3d5b9a246e6afb7caa19b76b3fd",
       "version_major": 2,
       "version_minor": 0
      },
      "text/plain": [
       "Predicting: 0it [00:00, ?it/s]"
      ]
     },
     "metadata": {},
     "output_type": "display_data"
    },
    {
     "name": "stderr",
     "output_type": "stream",
     "text": [
      "c:\\Users\\Admin\\anaconda3\\lib\\site-packages\\xarray\\core\\pycompat.py:22: DeprecationWarning: distutils Version classes are deprecated. Use packaging.version instead.\n",
      "  duck_array_version = LooseVersion(duck_array_module.__version__)\n",
      "c:\\Users\\Admin\\anaconda3\\lib\\site-packages\\xarray\\core\\pycompat.py:37: DeprecationWarning: distutils Version classes are deprecated. Use packaging.version instead.\n",
      "  duck_array_version = LooseVersion(\"0.0.0\")\n"
     ]
    },
    {
     "data": {
      "text/plain": [
       "<matplotlib.legend.Legend at 0x247d8d86310>"
      ]
     },
     "execution_count": 29,
     "metadata": {},
     "output_type": "execute_result"
    },
    {
     "data": {
      "image/png": "[encoded data removed]",
      "text/plain": [
       "<Figure size 640x480 with 1 Axes>"
      ]
     },
     "metadata": {},
     "output_type": "display_data"
    }
   ],
   "source": [
    "i = 11\n",
    "predicted_series_scaled = model.predict(n=len(list_val_series_scaled[i])+5,\n",
    "                                        series=list_train_series_scaled[i],\n",
    "                                        past_covariates=list_scaled_past_cov[i],\n",
    "                                        # future_covariates=list_scaled_future_cov[i],\n",
    "                                        )\n",
    "prediction = list_scaler[i].inverse_transform(predicted_series_scaled)\n",
    "list_stock_timeseries[i][pd.to_datetime('2023-03-31'):].plot()\n",
    "prediction[pd.to_datetime('2023-03-31'):].plot(label=\"forecast\")\n",
    "plt.legend()"
   ]
  },
  {
   "cell_type": "code",
   "execution_count": null,
   "id": "79298419",
   "metadata": {},
   "outputs": [],
   "source": []
  }
 ],
 "metadata": {
  "kernelspec": {
   "display_name": "Python 3 (ipykernel)",
   "language": "python",
   "name": "python3"
  },
  "language_info": {
   "codemirror_mode": {
    "name": "ipython",
    "version": 3
   },
   "file_extension": ".py",
   "mimetype": "text/x-python",
   "name": "python",
   "nbconvert_exporter": "python",
   "pygments_lexer": "ipython3",
   "version": "3.9.13"
  },
  "vscode": {
   "interpreter": {
    "hash": "2043299c89c8cd0b4d1a6f5cf4529bd58e6a4e0fe3181a25e0d328c821cdc5c5"
   }
  }
 },
 "nbformat": 4,
 "nbformat_minor": 5
}
